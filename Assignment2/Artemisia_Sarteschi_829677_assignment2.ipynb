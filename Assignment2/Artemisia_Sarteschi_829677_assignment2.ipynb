{
  "nbformat": 4,
  "nbformat_minor": 0,
  "metadata": {
    "kernelspec": {
      "display_name": "Python 3",
      "language": "python",
      "name": "python3"
    },
    "language_info": {
      "codemirror_mode": {
        "name": "ipython",
        "version": 3
      },
      "file_extension": ".py",
      "mimetype": "text/x-python",
      "name": "python",
      "nbconvert_exporter": "python",
      "pygments_lexer": "ipython3",
      "version": "3.6.4"
    },
    "colab": {
      "name": "Assigment2.ipynb",
      "provenance": [],
      "collapsed_sections": []
    }
  },
  "cells": [
    {
      "cell_type": "markdown",
      "metadata": {
        "id": "FH5ja_uiJbr6"
      },
      "source": [
        "# Predicting grayscale images of letters P - Z.\n",
        "\n",
        "The assignment consists on the prediction of grayscale images of letters P - Z.\n",
        "\n",
        "Assignment di:\n",
        "  **Artemisia Sarteschi Matricola 829677**"
      ]
    },
    {
      "cell_type": "markdown",
      "metadata": {
        "id": "0-FgzT_cJbsH"
      },
      "source": [
        "##Inspecting the data\n"
      ]
    },
    {
      "cell_type": "markdown",
      "metadata": {
        "id": "nx6q7ra5AZ4K"
      },
      "source": [
        "Importo le librerie necessarie"
      ]
    },
    {
      "cell_type": "code",
      "metadata": {
        "id": "6cKS4UH0ZW8o"
      },
      "source": [
        "import pickle\n",
        "import numpy as np\n",
        "import matplotlib.pyplot as plt\n",
        "import tensorflow as tf\n",
        "from keras.utils import np_utils\n",
        "from keras.models import Sequential,Model\n",
        "from keras.layers.core import Dense, Dropout\n",
        "from keras.layers import Input\n",
        "import collections\n",
        "from tensorflow.keras.optimizers import SGD\n",
        "from sklearn.model_selection import train_test_split\n",
        "from sklearn.metrics import classification_report"
      ],
      "execution_count": 123,
      "outputs": []
    },
    {
      "cell_type": "markdown",
      "metadata": {
        "id": "0iUrSQrBBKgS"
      },
      "source": [
        "Importo i dati"
      ]
    },
    {
      "cell_type": "code",
      "metadata": {
        "id": "8vSiz47HXYYM"
      },
      "source": [
        "x_train = pickle.load(open(\"x_train.obj\",\"rb\"))\n",
        "x_test  = pickle.load(open(\"x_test.obj\",\"rb\"))\n",
        "y_train = pickle.load(open(\"y_train.obj\",\"rb\"))"
      ],
      "execution_count": 124,
      "outputs": []
    },
    {
      "cell_type": "markdown",
      "metadata": {
        "id": "f35B0idKBIHS"
      },
      "source": [
        "Visualizzo il formato di y_train per capire se sia necessario convertirlo ed il numero delle categorie in cui è diviso."
      ]
    },
    {
      "cell_type": "code",
      "metadata": {
        "colab": {
          "base_uri": "https://localhost:8080/"
        },
        "id": "oe7CTdYKZy6t",
        "outputId": "d88f1d28-1851-4ec8-c0b2-b6eb5652759b"
      },
      "source": [
        "print(y_train)"
      ],
      "execution_count": 125,
      "outputs": [
        {
          "output_type": "stream",
          "name": "stdout",
          "text": [
            "[18 21 17 ... 20 20 16]\n"
          ]
        }
      ]
    },
    {
      "cell_type": "code",
      "metadata": {
        "colab": {
          "base_uri": "https://localhost:8080/"
        },
        "id": "VGAg_F6ta0Oa",
        "outputId": "5c8b5729-8e14-4579-9095-a609f7c54c43"
      },
      "source": [
        "print('Number of categories:',len(set(y_train)))"
      ],
      "execution_count": 57,
      "outputs": [
        {
          "output_type": "stream",
          "name": "stdout",
          "text": [
            "Number of categories: 11\n"
          ]
        }
      ]
    },
    {
      "cell_type": "code",
      "metadata": {
        "colab": {
          "base_uri": "https://localhost:8080/"
        },
        "id": "clA8-A7uoUDL",
        "outputId": "de600062-97be-4f62-f99e-954096c09bc2"
      },
      "source": [
        "set(y_train)"
      ],
      "execution_count": 58,
      "outputs": [
        {
          "output_type": "execute_result",
          "data": {
            "text/plain": [
              "{16, 17, 18, 19, 20, 21, 22, 23, 24, 25, 26}"
            ]
          },
          "metadata": {},
          "execution_count": 58
        }
      ]
    },
    {
      "cell_type": "markdown",
      "metadata": {
        "id": "AWA1uhapIUqK"
      },
      "source": [
        "Visualizzo e valuto quindi le dimensioni di tutti dati forniti e noto che ogni immagine è 28*28"
      ]
    },
    {
      "cell_type": "code",
      "metadata": {
        "colab": {
          "base_uri": "https://localhost:8080/"
        },
        "id": "ZWeFDCW0bmAY",
        "outputId": "cdf07b0e-d5bd-456c-fc59-2c673dc8cea2"
      },
      "source": [
        "x_train.shape, x_test.shape, y_train.shape"
      ],
      "execution_count": 59,
      "outputs": [
        {
          "output_type": "execute_result",
          "data": {
            "text/plain": [
              "((14000, 28, 28), (8800, 28, 28), (14000,))"
            ]
          },
          "metadata": {},
          "execution_count": 59
        }
      ]
    },
    {
      "cell_type": "code",
      "metadata": {
        "colab": {
          "base_uri": "https://localhost:8080/"
        },
        "id": "8thZUvYLa4b9",
        "outputId": "625b6dcb-9ad1-4cb0-e1d5-ea976adbd8b7"
      },
      "source": [
        "x_train[0].shape, 28*28, np.min(x_train[0]), np.max(x_train[0])"
      ],
      "execution_count": 60,
      "outputs": [
        {
          "output_type": "execute_result",
          "data": {
            "text/plain": [
              "((28, 28), 784, 0, 255)"
            ]
          },
          "metadata": {},
          "execution_count": 60
        }
      ]
    },
    {
      "cell_type": "markdown",
      "metadata": {
        "id": "Fch68aebIVbm"
      },
      "source": [
        "Controllo quindi la distribuzione del target e noto che una categoria è composta da meno elementi rispetto alle altre, ma guardando alla numerosità dei campioni decido di non bilanciarle in quanto la differenza non è sostanziale."
      ]
    },
    {
      "cell_type": "code",
      "metadata": {
        "colab": {
          "base_uri": "https://localhost:8080/",
          "height": 283
        },
        "id": "iDyvrAJVoXGk",
        "outputId": "8f7a496d-d2b9-4297-c3cb-4c6172b39c1d"
      },
      "source": [
        "count_cat = collections.Counter(y_train)\n",
        "count_cat_most = count_cat.most_common()\n",
        "x,y = zip(*count_cat_most)\n",
        "plt.bar(x,y)"
      ],
      "execution_count": 61,
      "outputs": [
        {
          "output_type": "execute_result",
          "data": {
            "text/plain": [
              "<BarContainer object of 11 artists>"
            ]
          },
          "metadata": {},
          "execution_count": 61
        },
        {
          "output_type": "display_data",
          "data": {
            "image/png": "[encoded data removed]",
            "text/plain": [
              "<Figure size 432x288 with 1 Axes>"
            ]
          },
          "metadata": {
            "needs_background": "light"
          }
        }
      ]
    },
    {
      "cell_type": "markdown",
      "metadata": {
        "id": "PjWrQr5vWTTG"
      },
      "source": [
        "## Preparing the data"
      ]
    },
    {
      "cell_type": "markdown",
      "metadata": {
        "id": "HpWI3rWgI3pH"
      },
      "source": [
        "Modifico i dati in modo da portarli in uno stesso formato"
      ]
    },
    {
      "cell_type": "code",
      "metadata": {
        "id": "Cw48ucmJbYjr"
      },
      "source": [
        "x_train = x_train.reshape(14000, 784)\n",
        "x_test = x_test.reshape(8800, 784)\n",
        "x_train = x_train.astype(\"float32\")\n",
        "x_test = x_test.astype(\"float32\")"
      ],
      "execution_count": 62,
      "outputs": []
    },
    {
      "cell_type": "markdown",
      "metadata": {
        "id": "r95-GOLbJX22"
      },
      "source": [
        "Trasformo le immagini nella scala dei grigi per elaborarle meglio"
      ]
    },
    {
      "cell_type": "code",
      "metadata": {
        "id": "wfmOCMd6I-Bd"
      },
      "source": [
        "x_train /= 255\n",
        "x_test /= 255"
      ],
      "execution_count": null,
      "outputs": []
    },
    {
      "cell_type": "markdown",
      "metadata": {
        "id": "KRl4LxECJh_9"
      },
      "source": [
        "Coverto il target in una matrice binaria (one hot encode)"
      ]
    },
    {
      "cell_type": "code",
      "metadata": {
        "id": "5HIH06WHJAq_"
      },
      "source": [
        "Y_train =  np_utils.to_categorical(y_train, 27)"
      ],
      "execution_count": null,
      "outputs": []
    },
    {
      "cell_type": "code",
      "metadata": {
        "colab": {
          "base_uri": "https://localhost:8080/"
        },
        "id": "M8UIBSuagePV",
        "outputId": "30a9d04a-3c41-4383-bf65-83499612f15a"
      },
      "source": [
        "y_train[0]"
      ],
      "execution_count": 63,
      "outputs": [
        {
          "output_type": "execute_result",
          "data": {
            "text/plain": [
              "18"
            ]
          },
          "metadata": {},
          "execution_count": 63
        }
      ]
    },
    {
      "cell_type": "code",
      "metadata": {
        "colab": {
          "base_uri": "https://localhost:8080/"
        },
        "id": "KwLEB0JXggPa",
        "outputId": "a4fd3178-fa04-41af-a8cf-17aa7043474b"
      },
      "source": [
        "Y_train[0]"
      ],
      "execution_count": 64,
      "outputs": [
        {
          "output_type": "execute_result",
          "data": {
            "text/plain": [
              "array([0., 0., 0., 0., 0., 0., 0., 0., 0., 0., 0., 0., 0., 0., 0., 0., 0.,\n",
              "       0., 1., 0., 0., 0., 0., 0., 0., 0., 0.], dtype=float32)"
            ]
          },
          "metadata": {},
          "execution_count": 64
        }
      ]
    },
    {
      "cell_type": "markdown",
      "metadata": {
        "id": "-qFon2bzKiCW"
      },
      "source": [
        "Divido i dati fortniti tra effettivo train e validation che verranno utilizzati successivamente"
      ]
    },
    {
      "cell_type": "code",
      "metadata": {
        "id": "J84aUJVUJbsI"
      },
      "source": [
        "XX_train, XX_val, YY_train, YY_val = train_test_split(x_train, Y_train,test_size=0.1, random_state=1 )"
      ],
      "execution_count": 65,
      "outputs": []
    },
    {
      "cell_type": "code",
      "metadata": {
        "colab": {
          "base_uri": "https://localhost:8080/"
        },
        "id": "GblLH56Sg1FW",
        "outputId": "0ab56165-890d-4b84-b7ca-bb8edbe20829"
      },
      "source": [
        "print('Size of the train set:', XX_train.shape)"
      ],
      "execution_count": 66,
      "outputs": [
        {
          "output_type": "stream",
          "name": "stdout",
          "text": [
            "Size of the train set: (12600, 784)\n"
          ]
        }
      ]
    },
    {
      "cell_type": "code",
      "metadata": {
        "colab": {
          "base_uri": "https://localhost:8080/",
          "height": 281
        },
        "id": "Mf5HMQvjhSQb",
        "outputId": "84ea82a2-d06b-4825-b3eb-2a6f800d7e1b"
      },
      "source": [
        "plt.imshow(XX_train[10].reshape(28, 28))"
      ],
      "execution_count": 67,
      "outputs": [
        {
          "output_type": "execute_result",
          "data": {
            "text/plain": [
              "<matplotlib.image.AxesImage at 0x7f07a91c0e90>"
            ]
          },
          "metadata": {},
          "execution_count": 67
        },
        {
          "output_type": "display_data",
          "data": {
            "image/png": "[encoded data removed]",
            "text/plain": [
              "<Figure size 432x288 with 1 Axes>"
            ]
          },
          "metadata": {
            "needs_background": "light"
          }
        }
      ]
    },
    {
      "cell_type": "markdown",
      "metadata": {
        "id": "baYSJzXhpd78"
      },
      "source": [
        "# 1. The resolution of the problem of supervised classification with a traditional neural network [Mandatory]\n"
      ]
    },
    {
      "cell_type": "markdown",
      "metadata": {
        "id": "Eb9aljYxJbsK"
      },
      "source": [
        "## Building the network\n",
        "\n",
        "\n",
        "any description/comment about the procedure you followed in the choice of the network structure and hyperparameters goes here, together with consideration about the training/optimization procedure (e.g. optimizer choice, final activations, loss functions, training metrics)"
      ]
    },
    {
      "cell_type": "markdown",
      "metadata": {
        "id": "S2EXEr-ALnk3"
      },
      "source": [
        "Inizializzo le variabili di cui ho necessità durante la costruzione e il train delle varie reti"
      ]
    },
    {
      "cell_type": "code",
      "metadata": {
        "id": "18GuTgx8mEes"
      },
      "source": [
        "dims = XX_train.shape[1]\n",
        "nb_classes = 27\n",
        "initializer = tf.keras.initializers.GlorotUniform(seed=7) \n",
        "n_epochs =100"
      ],
      "execution_count": 68,
      "outputs": []
    },
    {
      "cell_type": "markdown",
      "metadata": {
        "id": "U_C2pey9mGUU"
      },
      "source": [
        "Costruisco il primo modello senza l'utilizzo di nessuna regularization e successivamente con Dropout per valutare un miglioramento."
      ]
    },
    {
      "cell_type": "code",
      "metadata": {
        "id": "AS3zsRlBYHKW"
      },
      "source": [
        "model = Sequential()\n",
        "model.add(Dense(512, input_shape=(dims,), activation = \"relu\", kernel_initializer=initializer))\n",
        "model.add(Dense(256, activation = \"relu\", kernel_initializer=initializer))\n",
        "model.add(Dense(128, activation = \"relu\", kernel_initializer=initializer))\n",
        "model.add(Dense(64, activation = \"relu\", kernel_initializer=initializer))\n",
        "model.add(Dense(nb_classes, activation = \"softmax\", kernel_initializer=initializer))\n",
        "\n",
        "model.compile(optimizer=SGD(learning_rate=0.001), loss='categorical_crossentropy',metrics=['accuracy'])"
      ],
      "execution_count": 81,
      "outputs": []
    },
    {
      "cell_type": "code",
      "metadata": {
        "colab": {
          "base_uri": "https://localhost:8080/"
        },
        "id": "vbn3ANlTh3Md",
        "outputId": "c874d022-0887-43f7-aec3-02d599579df5"
      },
      "source": [
        "model.summary()"
      ],
      "execution_count": 82,
      "outputs": [
        {
          "output_type": "stream",
          "name": "stdout",
          "text": [
            "Model: \"sequential_9\"\n",
            "_________________________________________________________________\n",
            " Layer (type)                Output Shape              Param #   \n",
            "=================================================================\n",
            " dense_45 (Dense)            (None, 512)               401920    \n",
            "                                                                 \n",
            " dense_46 (Dense)            (None, 256)               131328    \n",
            "                                                                 \n",
            " dense_47 (Dense)            (None, 128)               32896     \n",
            "                                                                 \n",
            " dense_48 (Dense)            (None, 64)                8256      \n",
            "                                                                 \n",
            " dense_49 (Dense)            (None, 27)                1755      \n",
            "                                                                 \n",
            "=================================================================\n",
            "Total params: 576,155\n",
            "Trainable params: 576,155\n",
            "Non-trainable params: 0\n",
            "_________________________________________________________________\n"
          ]
        }
      ]
    },
    {
      "cell_type": "code",
      "metadata": {
        "id": "KIR2ezIDh4YS",
        "colab": {
          "base_uri": "https://localhost:8080/"
        },
        "outputId": "10e0ba39-0eec-4bcb-8afe-1c41d4948abe"
      },
      "source": [
        "network_history = model.fit(XX_train, YY_train, batch_size=128,  epochs=n_epochs, verbose=2,validation_data = (XX_val, YY_val))"
      ],
      "execution_count": 83,
      "outputs": [
        {
          "output_type": "stream",
          "name": "stdout",
          "text": [
            "Epoch 1/100\n",
            "99/99 - 2s - loss: 3.2792 - accuracy: 0.0077 - val_loss: 3.2479 - val_accuracy: 0.0121 - 2s/epoch - 16ms/step\n",
            "Epoch 2/100\n",
            "99/99 - 1s - loss: 3.2209 - accuracy: 0.0197 - val_loss: 3.1892 - val_accuracy: 0.0207 - 1s/epoch - 11ms/step\n",
            "Epoch 3/100\n",
            "99/99 - 1s - loss: 3.1577 - accuracy: 0.0302 - val_loss: 3.1244 - val_accuracy: 0.0336 - 1s/epoch - 11ms/step\n",
            "Epoch 4/100\n",
            "99/99 - 1s - loss: 3.0873 - accuracy: 0.0484 - val_loss: 3.0521 - val_accuracy: 0.0636 - 1s/epoch - 11ms/step\n",
            "Epoch 5/100\n",
            "99/99 - 1s - loss: 3.0087 - accuracy: 0.0927 - val_loss: 2.9709 - val_accuracy: 0.1350 - 1s/epoch - 11ms/step\n",
            "Epoch 6/100\n",
            "99/99 - 1s - loss: 2.9203 - accuracy: 0.1852 - val_loss: 2.8804 - val_accuracy: 0.2236 - 1s/epoch - 11ms/step\n",
            "Epoch 7/100\n",
            "99/99 - 1s - loss: 2.8226 - accuracy: 0.2549 - val_loss: 2.7822 - val_accuracy: 0.2579 - 1s/epoch - 11ms/step\n",
            "Epoch 8/100\n",
            "99/99 - 1s - loss: 2.7186 - accuracy: 0.2739 - val_loss: 2.6788 - val_accuracy: 0.2729 - 1s/epoch - 11ms/step\n",
            "Epoch 9/100\n",
            "99/99 - 1s - loss: 2.6108 - accuracy: 0.2921 - val_loss: 2.5723 - val_accuracy: 0.2893 - 1s/epoch - 11ms/step\n",
            "Epoch 10/100\n",
            "99/99 - 1s - loss: 2.5015 - accuracy: 0.3144 - val_loss: 2.4647 - val_accuracy: 0.3136 - 1s/epoch - 11ms/step\n",
            "Epoch 11/100\n",
            "99/99 - 1s - loss: 2.3922 - accuracy: 0.3588 - val_loss: 2.3572 - val_accuracy: 0.3786 - 1s/epoch - 11ms/step\n",
            "Epoch 12/100\n",
            "99/99 - 1s - loss: 2.2849 - accuracy: 0.4304 - val_loss: 2.2540 - val_accuracy: 0.4414 - 1s/epoch - 11ms/step\n",
            "Epoch 13/100\n",
            "99/99 - 1s - loss: 2.1841 - accuracy: 0.4893 - val_loss: 2.1584 - val_accuracy: 0.4850 - 1s/epoch - 11ms/step\n",
            "Epoch 14/100\n",
            "99/99 - 1s - loss: 2.0915 - accuracy: 0.5217 - val_loss: 2.0699 - val_accuracy: 0.5064 - 1s/epoch - 11ms/step\n",
            "Epoch 15/100\n",
            "99/99 - 1s - loss: 2.0063 - accuracy: 0.5366 - val_loss: 1.9875 - val_accuracy: 0.5186 - 1s/epoch - 11ms/step\n",
            "Epoch 16/100\n",
            "99/99 - 1s - loss: 1.9264 - accuracy: 0.5440 - val_loss: 1.9104 - val_accuracy: 0.5350 - 1s/epoch - 11ms/step\n",
            "Epoch 17/100\n",
            "99/99 - 1s - loss: 1.8504 - accuracy: 0.5579 - val_loss: 1.8366 - val_accuracy: 0.5414 - 1s/epoch - 11ms/step\n",
            "Epoch 18/100\n",
            "99/99 - 1s - loss: 1.7771 - accuracy: 0.5704 - val_loss: 1.7655 - val_accuracy: 0.5593 - 1s/epoch - 11ms/step\n",
            "Epoch 19/100\n",
            "99/99 - 1s - loss: 1.7065 - accuracy: 0.5846 - val_loss: 1.6961 - val_accuracy: 0.5729 - 1s/epoch - 11ms/step\n",
            "Epoch 20/100\n",
            "99/99 - 1s - loss: 1.6389 - accuracy: 0.5998 - val_loss: 1.6290 - val_accuracy: 0.5893 - 1s/epoch - 11ms/step\n",
            "Epoch 21/100\n",
            "99/99 - 1s - loss: 1.5740 - accuracy: 0.6125 - val_loss: 1.5665 - val_accuracy: 0.5957 - 1s/epoch - 11ms/step\n",
            "Epoch 22/100\n",
            "99/99 - 1s - loss: 1.5126 - accuracy: 0.6252 - val_loss: 1.5071 - val_accuracy: 0.6050 - 1s/epoch - 11ms/step\n",
            "Epoch 23/100\n",
            "99/99 - 1s - loss: 1.4551 - accuracy: 0.6333 - val_loss: 1.4517 - val_accuracy: 0.6193 - 1s/epoch - 11ms/step\n",
            "Epoch 24/100\n",
            "99/99 - 1s - loss: 1.4012 - accuracy: 0.6488 - val_loss: 1.3992 - val_accuracy: 0.6271 - 1s/epoch - 11ms/step\n",
            "Epoch 25/100\n",
            "99/99 - 1s - loss: 1.3511 - accuracy: 0.6590 - val_loss: 1.3516 - val_accuracy: 0.6364 - 1s/epoch - 10ms/step\n",
            "Epoch 26/100\n",
            "99/99 - 1s - loss: 1.3050 - accuracy: 0.6656 - val_loss: 1.3074 - val_accuracy: 0.6436 - 1s/epoch - 11ms/step\n",
            "Epoch 27/100\n",
            "99/99 - 1s - loss: 1.2623 - accuracy: 0.6755 - val_loss: 1.2648 - val_accuracy: 0.6586 - 1s/epoch - 11ms/step\n",
            "Epoch 28/100\n",
            "99/99 - 1s - loss: 1.2235 - accuracy: 0.6837 - val_loss: 1.2279 - val_accuracy: 0.6550 - 1s/epoch - 11ms/step\n",
            "Epoch 29/100\n",
            "99/99 - 1s - loss: 1.1876 - accuracy: 0.6875 - val_loss: 1.1920 - val_accuracy: 0.6650 - 1s/epoch - 11ms/step\n",
            "Epoch 30/100\n",
            "99/99 - 1s - loss: 1.1548 - accuracy: 0.6956 - val_loss: 1.1609 - val_accuracy: 0.6750 - 1s/epoch - 11ms/step\n",
            "Epoch 31/100\n",
            "99/99 - 1s - loss: 1.1248 - accuracy: 0.6992 - val_loss: 1.1319 - val_accuracy: 0.6829 - 1s/epoch - 11ms/step\n",
            "Epoch 32/100\n",
            "99/99 - 1s - loss: 1.0973 - accuracy: 0.7028 - val_loss: 1.1050 - val_accuracy: 0.6807 - 1s/epoch - 11ms/step\n",
            "Epoch 33/100\n",
            "99/99 - 1s - loss: 1.0718 - accuracy: 0.7063 - val_loss: 1.0832 - val_accuracy: 0.6836 - 1s/epoch - 11ms/step\n",
            "Epoch 34/100\n",
            "99/99 - 1s - loss: 1.0483 - accuracy: 0.7088 - val_loss: 1.0580 - val_accuracy: 0.6893 - 1s/epoch - 11ms/step\n",
            "Epoch 35/100\n",
            "99/99 - 1s - loss: 1.0268 - accuracy: 0.7129 - val_loss: 1.0362 - val_accuracy: 0.6929 - 1s/epoch - 11ms/step\n",
            "Epoch 36/100\n",
            "99/99 - 1s - loss: 1.0069 - accuracy: 0.7191 - val_loss: 1.0172 - val_accuracy: 0.6986 - 1s/epoch - 11ms/step\n",
            "Epoch 37/100\n",
            "99/99 - 1s - loss: 0.9881 - accuracy: 0.7195 - val_loss: 1.0018 - val_accuracy: 0.7007 - 1s/epoch - 11ms/step\n",
            "Epoch 38/100\n",
            "99/99 - 1s - loss: 0.9711 - accuracy: 0.7242 - val_loss: 0.9809 - val_accuracy: 0.7043 - 1s/epoch - 11ms/step\n",
            "Epoch 39/100\n",
            "99/99 - 1s - loss: 0.9543 - accuracy: 0.7270 - val_loss: 0.9662 - val_accuracy: 0.7093 - 1s/epoch - 11ms/step\n",
            "Epoch 40/100\n",
            "99/99 - 1s - loss: 0.9393 - accuracy: 0.7290 - val_loss: 0.9535 - val_accuracy: 0.7164 - 1s/epoch - 11ms/step\n",
            "Epoch 41/100\n",
            "99/99 - 1s - loss: 0.9252 - accuracy: 0.7337 - val_loss: 0.9381 - val_accuracy: 0.7136 - 1s/epoch - 11ms/step\n",
            "Epoch 42/100\n",
            "99/99 - 1s - loss: 0.9117 - accuracy: 0.7355 - val_loss: 0.9236 - val_accuracy: 0.7150 - 1s/epoch - 11ms/step\n",
            "Epoch 43/100\n",
            "99/99 - 1s - loss: 0.8993 - accuracy: 0.7379 - val_loss: 0.9114 - val_accuracy: 0.7179 - 1s/epoch - 11ms/step\n",
            "Epoch 44/100\n",
            "99/99 - 1s - loss: 0.8873 - accuracy: 0.7403 - val_loss: 0.9011 - val_accuracy: 0.7157 - 1s/epoch - 11ms/step\n",
            "Epoch 45/100\n",
            "99/99 - 1s - loss: 0.8758 - accuracy: 0.7447 - val_loss: 0.8897 - val_accuracy: 0.7229 - 1s/epoch - 11ms/step\n",
            "Epoch 46/100\n",
            "99/99 - 1s - loss: 0.8652 - accuracy: 0.7470 - val_loss: 0.8779 - val_accuracy: 0.7193 - 1s/epoch - 11ms/step\n",
            "Epoch 47/100\n",
            "99/99 - 1s - loss: 0.8547 - accuracy: 0.7479 - val_loss: 0.8671 - val_accuracy: 0.7264 - 1s/epoch - 11ms/step\n",
            "Epoch 48/100\n",
            "99/99 - 1s - loss: 0.8448 - accuracy: 0.7507 - val_loss: 0.8578 - val_accuracy: 0.7293 - 1s/epoch - 11ms/step\n",
            "Epoch 49/100\n",
            "99/99 - 1s - loss: 0.8356 - accuracy: 0.7544 - val_loss: 0.8496 - val_accuracy: 0.7271 - 1s/epoch - 11ms/step\n",
            "Epoch 50/100\n",
            "99/99 - 1s - loss: 0.8262 - accuracy: 0.7557 - val_loss: 0.8401 - val_accuracy: 0.7336 - 1s/epoch - 11ms/step\n",
            "Epoch 51/100\n",
            "99/99 - 1s - loss: 0.8173 - accuracy: 0.7598 - val_loss: 0.8314 - val_accuracy: 0.7350 - 1s/epoch - 11ms/step\n",
            "Epoch 52/100\n",
            "99/99 - 1s - loss: 0.8088 - accuracy: 0.7604 - val_loss: 0.8234 - val_accuracy: 0.7386 - 1s/epoch - 11ms/step\n",
            "Epoch 53/100\n",
            "99/99 - 1s - loss: 0.8002 - accuracy: 0.7634 - val_loss: 0.8162 - val_accuracy: 0.7364 - 1s/epoch - 11ms/step\n",
            "Epoch 54/100\n",
            "99/99 - 1s - loss: 0.7927 - accuracy: 0.7656 - val_loss: 0.8083 - val_accuracy: 0.7407 - 1s/epoch - 11ms/step\n",
            "Epoch 55/100\n",
            "99/99 - 1s - loss: 0.7851 - accuracy: 0.7671 - val_loss: 0.8013 - val_accuracy: 0.7386 - 1s/epoch - 11ms/step\n",
            "Epoch 56/100\n",
            "99/99 - 1s - loss: 0.7781 - accuracy: 0.7689 - val_loss: 0.7933 - val_accuracy: 0.7457 - 1s/epoch - 11ms/step\n",
            "Epoch 57/100\n",
            "99/99 - 1s - loss: 0.7712 - accuracy: 0.7691 - val_loss: 0.7879 - val_accuracy: 0.7443 - 1s/epoch - 11ms/step\n",
            "Epoch 58/100\n",
            "99/99 - 1s - loss: 0.7644 - accuracy: 0.7713 - val_loss: 0.7821 - val_accuracy: 0.7429 - 1s/epoch - 11ms/step\n",
            "Epoch 59/100\n",
            "99/99 - 1s - loss: 0.7576 - accuracy: 0.7727 - val_loss: 0.7713 - val_accuracy: 0.7479 - 1s/epoch - 11ms/step\n",
            "Epoch 60/100\n",
            "99/99 - 1s - loss: 0.7515 - accuracy: 0.7748 - val_loss: 0.7673 - val_accuracy: 0.7479 - 1s/epoch - 11ms/step\n",
            "Epoch 61/100\n",
            "99/99 - 1s - loss: 0.7455 - accuracy: 0.7770 - val_loss: 0.7622 - val_accuracy: 0.7550 - 1s/epoch - 11ms/step\n",
            "Epoch 62/100\n",
            "99/99 - 1s - loss: 0.7394 - accuracy: 0.7794 - val_loss: 0.7569 - val_accuracy: 0.7536 - 1s/epoch - 11ms/step\n",
            "Epoch 63/100\n",
            "99/99 - 1s - loss: 0.7338 - accuracy: 0.7796 - val_loss: 0.7482 - val_accuracy: 0.7550 - 1s/epoch - 11ms/step\n",
            "Epoch 64/100\n",
            "99/99 - 1s - loss: 0.7283 - accuracy: 0.7804 - val_loss: 0.7442 - val_accuracy: 0.7557 - 1s/epoch - 11ms/step\n",
            "Epoch 65/100\n",
            "99/99 - 1s - loss: 0.7227 - accuracy: 0.7836 - val_loss: 0.7398 - val_accuracy: 0.7600 - 1s/epoch - 11ms/step\n",
            "Epoch 66/100\n",
            "99/99 - 1s - loss: 0.7174 - accuracy: 0.7837 - val_loss: 0.7317 - val_accuracy: 0.7593 - 1s/epoch - 11ms/step\n",
            "Epoch 67/100\n",
            "99/99 - 1s - loss: 0.7123 - accuracy: 0.7857 - val_loss: 0.7265 - val_accuracy: 0.7664 - 1s/epoch - 11ms/step\n",
            "Epoch 68/100\n",
            "99/99 - 1s - loss: 0.7071 - accuracy: 0.7872 - val_loss: 0.7210 - val_accuracy: 0.7621 - 1s/epoch - 11ms/step\n",
            "Epoch 69/100\n",
            "99/99 - 1s - loss: 0.7025 - accuracy: 0.7891 - val_loss: 0.7170 - val_accuracy: 0.7657 - 1s/epoch - 11ms/step\n",
            "Epoch 70/100\n",
            "99/99 - 1s - loss: 0.6976 - accuracy: 0.7904 - val_loss: 0.7117 - val_accuracy: 0.7729 - 1s/epoch - 11ms/step\n",
            "Epoch 71/100\n",
            "99/99 - 1s - loss: 0.6924 - accuracy: 0.7907 - val_loss: 0.7087 - val_accuracy: 0.7664 - 1s/epoch - 11ms/step\n",
            "Epoch 72/100\n",
            "99/99 - 1s - loss: 0.6883 - accuracy: 0.7929 - val_loss: 0.7034 - val_accuracy: 0.7729 - 1s/epoch - 11ms/step\n",
            "Epoch 73/100\n",
            "99/99 - 1s - loss: 0.6840 - accuracy: 0.7933 - val_loss: 0.6980 - val_accuracy: 0.7721 - 1s/epoch - 11ms/step\n",
            "Epoch 74/100\n",
            "99/99 - 1s - loss: 0.6793 - accuracy: 0.7962 - val_loss: 0.6934 - val_accuracy: 0.7771 - 1s/epoch - 11ms/step\n",
            "Epoch 75/100\n",
            "99/99 - 1s - loss: 0.6753 - accuracy: 0.7967 - val_loss: 0.6880 - val_accuracy: 0.7771 - 1s/epoch - 11ms/step\n",
            "Epoch 76/100\n",
            "99/99 - 1s - loss: 0.6709 - accuracy: 0.7973 - val_loss: 0.6847 - val_accuracy: 0.7779 - 1s/epoch - 11ms/step\n",
            "Epoch 77/100\n",
            "99/99 - 1s - loss: 0.6665 - accuracy: 0.7990 - val_loss: 0.6832 - val_accuracy: 0.7764 - 1s/epoch - 11ms/step\n",
            "Epoch 78/100\n",
            "99/99 - 1s - loss: 0.6627 - accuracy: 0.7993 - val_loss: 0.6766 - val_accuracy: 0.7786 - 1s/epoch - 11ms/step\n",
            "Epoch 79/100\n",
            "99/99 - 1s - loss: 0.6589 - accuracy: 0.8011 - val_loss: 0.6746 - val_accuracy: 0.7779 - 1s/epoch - 11ms/step\n",
            "Epoch 80/100\n",
            "99/99 - 1s - loss: 0.6547 - accuracy: 0.8017 - val_loss: 0.6680 - val_accuracy: 0.7814 - 1s/epoch - 11ms/step\n",
            "Epoch 81/100\n",
            "99/99 - 1s - loss: 0.6507 - accuracy: 0.8035 - val_loss: 0.6650 - val_accuracy: 0.7800 - 1s/epoch - 11ms/step\n",
            "Epoch 82/100\n",
            "99/99 - 1s - loss: 0.6470 - accuracy: 0.8036 - val_loss: 0.6609 - val_accuracy: 0.7871 - 1s/epoch - 11ms/step\n",
            "Epoch 83/100\n",
            "99/99 - 1s - loss: 0.6435 - accuracy: 0.8044 - val_loss: 0.6563 - val_accuracy: 0.7886 - 1s/epoch - 11ms/step\n",
            "Epoch 84/100\n",
            "99/99 - 1s - loss: 0.6401 - accuracy: 0.8071 - val_loss: 0.6518 - val_accuracy: 0.7857 - 1s/epoch - 11ms/step\n",
            "Epoch 85/100\n",
            "99/99 - 1s - loss: 0.6365 - accuracy: 0.8085 - val_loss: 0.6491 - val_accuracy: 0.7879 - 1s/epoch - 11ms/step\n",
            "Epoch 86/100\n",
            "99/99 - 1s - loss: 0.6328 - accuracy: 0.8081 - val_loss: 0.6471 - val_accuracy: 0.7886 - 1s/epoch - 11ms/step\n",
            "Epoch 87/100\n",
            "99/99 - 1s - loss: 0.6293 - accuracy: 0.8086 - val_loss: 0.6420 - val_accuracy: 0.7907 - 1s/epoch - 11ms/step\n",
            "Epoch 88/100\n",
            "99/99 - 1s - loss: 0.6253 - accuracy: 0.8120 - val_loss: 0.6387 - val_accuracy: 0.7914 - 1s/epoch - 11ms/step\n",
            "Epoch 89/100\n",
            "99/99 - 1s - loss: 0.6226 - accuracy: 0.8121 - val_loss: 0.6365 - val_accuracy: 0.7886 - 1s/epoch - 11ms/step\n",
            "Epoch 90/100\n",
            "99/99 - 1s - loss: 0.6191 - accuracy: 0.8140 - val_loss: 0.6333 - val_accuracy: 0.7979 - 1s/epoch - 11ms/step\n",
            "Epoch 91/100\n",
            "99/99 - 1s - loss: 0.6157 - accuracy: 0.8145 - val_loss: 0.6297 - val_accuracy: 0.7993 - 1s/epoch - 11ms/step\n",
            "Epoch 92/100\n",
            "99/99 - 1s - loss: 0.6126 - accuracy: 0.8153 - val_loss: 0.6256 - val_accuracy: 0.7957 - 1s/epoch - 11ms/step\n",
            "Epoch 93/100\n",
            "99/99 - 1s - loss: 0.6095 - accuracy: 0.8163 - val_loss: 0.6234 - val_accuracy: 0.8014 - 1s/epoch - 11ms/step\n",
            "Epoch 94/100\n",
            "99/99 - 1s - loss: 0.6061 - accuracy: 0.8166 - val_loss: 0.6193 - val_accuracy: 0.7979 - 1s/epoch - 11ms/step\n",
            "Epoch 95/100\n",
            "99/99 - 1s - loss: 0.6030 - accuracy: 0.8190 - val_loss: 0.6147 - val_accuracy: 0.8021 - 1s/epoch - 11ms/step\n",
            "Epoch 96/100\n",
            "99/99 - 1s - loss: 0.5998 - accuracy: 0.8190 - val_loss: 0.6117 - val_accuracy: 0.8079 - 1s/epoch - 11ms/step\n",
            "Epoch 97/100\n",
            "99/99 - 1s - loss: 0.5971 - accuracy: 0.8200 - val_loss: 0.6092 - val_accuracy: 0.8036 - 1s/epoch - 11ms/step\n",
            "Epoch 98/100\n",
            "99/99 - 1s - loss: 0.5937 - accuracy: 0.8210 - val_loss: 0.6081 - val_accuracy: 0.8021 - 1s/epoch - 11ms/step\n",
            "Epoch 99/100\n",
            "99/99 - 1s - loss: 0.5912 - accuracy: 0.8219 - val_loss: 0.6027 - val_accuracy: 0.8079 - 1s/epoch - 11ms/step\n",
            "Epoch 100/100\n",
            "99/99 - 1s - loss: 0.5878 - accuracy: 0.8233 - val_loss: 0.5996 - val_accuracy: 0.8086 - 1s/epoch - 11ms/step\n"
          ]
        }
      ]
    },
    {
      "cell_type": "markdown",
      "metadata": {
        "id": "vEKqp-iXxkRy"
      },
      "source": [
        "**Droupout**\n",
        "Inizializzo la rete con il dropout che comparato con le altre regolarizazioni L1 e L2 ha fornito dei risultati migliori"
      ]
    },
    {
      "cell_type": "code",
      "metadata": {
        "id": "bPAZ12j5xho7"
      },
      "source": [
        "model_d = Sequential()\n",
        "model_d.add(Dense(512, input_shape=(dims,), activation = \"relu\", kernel_initializer=initializer))\n",
        "model_d.add(Dense(256, activation = \"relu\", kernel_initializer=initializer))\n",
        "model_d.add(Dropout(0.3))\n",
        "model_d.add(Dense(64, activation = \"relu\", kernel_initializer=initializer))\n",
        "model_d.add(Dropout(0.2))\n",
        "model_d.add(Dense(32, activation = \"relu\", kernel_initializer=initializer))\n",
        "model_d.add(Dropout(0.1))\n",
        "model_d.add(Dense(nb_classes, activation = \"softmax\", kernel_initializer=initializer))\n",
        "\n",
        "model_d.compile(optimizer=SGD(learning_rate=0.001), loss='categorical_crossentropy',metrics=['accuracy'])\n"
      ],
      "execution_count": 78,
      "outputs": []
    },
    {
      "cell_type": "code",
      "metadata": {
        "colab": {
          "base_uri": "https://localhost:8080/"
        },
        "id": "bNFhb4h1YKAR",
        "outputId": "0a08d81d-55db-4a54-96f9-2ee3fbb3ff8c"
      },
      "source": [
        "model_d.summary()"
      ],
      "execution_count": 79,
      "outputs": [
        {
          "output_type": "stream",
          "name": "stdout",
          "text": [
            "Model: \"sequential_8\"\n",
            "_________________________________________________________________\n",
            " Layer (type)                Output Shape              Param #   \n",
            "=================================================================\n",
            " dense_40 (Dense)            (None, 512)               401920    \n",
            "                                                                 \n",
            " dense_41 (Dense)            (None, 256)               131328    \n",
            "                                                                 \n",
            " dropout_12 (Dropout)        (None, 256)               0         \n",
            "                                                                 \n",
            " dense_42 (Dense)            (None, 64)                16448     \n",
            "                                                                 \n",
            " dropout_13 (Dropout)        (None, 64)                0         \n",
            "                                                                 \n",
            " dense_43 (Dense)            (None, 32)                2080      \n",
            "                                                                 \n",
            " dropout_14 (Dropout)        (None, 32)                0         \n",
            "                                                                 \n",
            " dense_44 (Dense)            (None, 27)                891       \n",
            "                                                                 \n",
            "=================================================================\n",
            "Total params: 552,667\n",
            "Trainable params: 552,667\n",
            "Non-trainable params: 0\n",
            "_________________________________________________________________\n"
          ]
        }
      ]
    },
    {
      "cell_type": "code",
      "metadata": {
        "colab": {
          "base_uri": "https://localhost:8080/"
        },
        "id": "6tNc7bAJx4NX",
        "outputId": "09041b52-9d23-43f5-da3e-8f600d7d255f"
      },
      "source": [
        "model_d_history = model_d.fit(XX_train, YY_train, batch_size=128, epochs=n_epochs, verbose=2,validation_data=(XX_val,YY_val))"
      ],
      "execution_count": 80,
      "outputs": [
        {
          "output_type": "stream",
          "name": "stdout",
          "text": [
            "Epoch 1/100\n",
            "99/99 - 2s - loss: 3.3336 - accuracy: 0.0351 - val_loss: 3.2827 - val_accuracy: 0.0607 - 2s/epoch - 17ms/step\n",
            "Epoch 2/100\n",
            "99/99 - 1s - loss: 3.2843 - accuracy: 0.0565 - val_loss: 3.2428 - val_accuracy: 0.1129 - 1s/epoch - 11ms/step\n",
            "Epoch 3/100\n",
            "99/99 - 1s - loss: 3.2475 - accuracy: 0.0837 - val_loss: 3.2067 - val_accuracy: 0.1407 - 1s/epoch - 11ms/step\n",
            "Epoch 4/100\n",
            "99/99 - 1s - loss: 3.2079 - accuracy: 0.1002 - val_loss: 3.1702 - val_accuracy: 0.1507 - 1s/epoch - 11ms/step\n",
            "Epoch 5/100\n",
            "99/99 - 1s - loss: 3.1706 - accuracy: 0.1124 - val_loss: 3.1311 - val_accuracy: 0.1571 - 1s/epoch - 11ms/step\n",
            "Epoch 6/100\n",
            "99/99 - 1s - loss: 3.1298 - accuracy: 0.1190 - val_loss: 3.0871 - val_accuracy: 0.1607 - 1s/epoch - 11ms/step\n",
            "Epoch 7/100\n",
            "99/99 - 1s - loss: 3.0878 - accuracy: 0.1218 - val_loss: 3.0372 - val_accuracy: 0.1579 - 1s/epoch - 11ms/step\n",
            "Epoch 8/100\n",
            "99/99 - 1s - loss: 3.0414 - accuracy: 0.1320 - val_loss: 2.9799 - val_accuracy: 0.1586 - 1s/epoch - 11ms/step\n",
            "Epoch 9/100\n",
            "99/99 - 1s - loss: 2.9851 - accuracy: 0.1332 - val_loss: 2.9148 - val_accuracy: 0.1571 - 1s/epoch - 11ms/step\n",
            "Epoch 10/100\n",
            "99/99 - 1s - loss: 2.9250 - accuracy: 0.1375 - val_loss: 2.8435 - val_accuracy: 0.1586 - 1s/epoch - 11ms/step\n",
            "Epoch 11/100\n",
            "99/99 - 1s - loss: 2.8652 - accuracy: 0.1411 - val_loss: 2.7671 - val_accuracy: 0.1629 - 1s/epoch - 11ms/step\n",
            "Epoch 12/100\n",
            "99/99 - 1s - loss: 2.7988 - accuracy: 0.1477 - val_loss: 2.6886 - val_accuracy: 0.1650 - 1s/epoch - 11ms/step\n",
            "Epoch 13/100\n",
            "99/99 - 1s - loss: 2.7339 - accuracy: 0.1497 - val_loss: 2.6090 - val_accuracy: 0.1736 - 1s/epoch - 11ms/step\n",
            "Epoch 14/100\n",
            "99/99 - 1s - loss: 2.6656 - accuracy: 0.1567 - val_loss: 2.5300 - val_accuracy: 0.1900 - 1s/epoch - 11ms/step\n",
            "Epoch 15/100\n",
            "99/99 - 1s - loss: 2.6010 - accuracy: 0.1691 - val_loss: 2.4514 - val_accuracy: 0.2236 - 1s/epoch - 11ms/step\n",
            "Epoch 16/100\n",
            "99/99 - 1s - loss: 2.5375 - accuracy: 0.1916 - val_loss: 2.3739 - val_accuracy: 0.2750 - 1s/epoch - 11ms/step\n",
            "Epoch 17/100\n",
            "99/99 - 1s - loss: 2.4694 - accuracy: 0.2086 - val_loss: 2.3001 - val_accuracy: 0.3250 - 1s/epoch - 11ms/step\n",
            "Epoch 18/100\n",
            "99/99 - 1s - loss: 2.4167 - accuracy: 0.2268 - val_loss: 2.2330 - val_accuracy: 0.3679 - 1s/epoch - 11ms/step\n",
            "Epoch 19/100\n",
            "99/99 - 1s - loss: 2.3647 - accuracy: 0.2423 - val_loss: 2.1708 - val_accuracy: 0.3979 - 1s/epoch - 11ms/step\n",
            "Epoch 20/100\n",
            "99/99 - 1s - loss: 2.3169 - accuracy: 0.2561 - val_loss: 2.1131 - val_accuracy: 0.4293 - 1s/epoch - 11ms/step\n",
            "Epoch 21/100\n",
            "99/99 - 1s - loss: 2.2746 - accuracy: 0.2625 - val_loss: 2.0607 - val_accuracy: 0.4486 - 1s/epoch - 11ms/step\n",
            "Epoch 22/100\n",
            "99/99 - 1s - loss: 2.2356 - accuracy: 0.2714 - val_loss: 2.0131 - val_accuracy: 0.4729 - 1s/epoch - 11ms/step\n",
            "Epoch 23/100\n",
            "99/99 - 1s - loss: 2.1917 - accuracy: 0.2892 - val_loss: 1.9677 - val_accuracy: 0.4843 - 1s/epoch - 11ms/step\n",
            "Epoch 24/100\n",
            "99/99 - 1s - loss: 2.1442 - accuracy: 0.2994 - val_loss: 1.9236 - val_accuracy: 0.4964 - 1s/epoch - 11ms/step\n",
            "Epoch 25/100\n",
            "99/99 - 1s - loss: 2.1208 - accuracy: 0.3073 - val_loss: 1.8837 - val_accuracy: 0.5107 - 1s/epoch - 11ms/step\n",
            "Epoch 26/100\n",
            "99/99 - 1s - loss: 2.0847 - accuracy: 0.3148 - val_loss: 1.8449 - val_accuracy: 0.5236 - 1s/epoch - 11ms/step\n",
            "Epoch 27/100\n",
            "99/99 - 1s - loss: 2.0420 - accuracy: 0.3277 - val_loss: 1.8069 - val_accuracy: 0.5279 - 1s/epoch - 11ms/step\n",
            "Epoch 28/100\n",
            "99/99 - 1s - loss: 2.0125 - accuracy: 0.3409 - val_loss: 1.7701 - val_accuracy: 0.5407 - 1s/epoch - 11ms/step\n",
            "Epoch 29/100\n",
            "99/99 - 1s - loss: 1.9884 - accuracy: 0.3531 - val_loss: 1.7359 - val_accuracy: 0.5421 - 1s/epoch - 11ms/step\n",
            "Epoch 30/100\n",
            "99/99 - 1s - loss: 1.9545 - accuracy: 0.3568 - val_loss: 1.7030 - val_accuracy: 0.5443 - 1s/epoch - 11ms/step\n",
            "Epoch 31/100\n",
            "99/99 - 1s - loss: 1.9340 - accuracy: 0.3625 - val_loss: 1.6713 - val_accuracy: 0.5521 - 1s/epoch - 10ms/step\n",
            "Epoch 32/100\n",
            "99/99 - 1s - loss: 1.9092 - accuracy: 0.3731 - val_loss: 1.6401 - val_accuracy: 0.5529 - 1s/epoch - 11ms/step\n",
            "Epoch 33/100\n",
            "99/99 - 1s - loss: 1.8764 - accuracy: 0.3838 - val_loss: 1.6094 - val_accuracy: 0.5607 - 1s/epoch - 11ms/step\n",
            "Epoch 34/100\n",
            "99/99 - 1s - loss: 1.8690 - accuracy: 0.3893 - val_loss: 1.5817 - val_accuracy: 0.5671 - 1s/epoch - 10ms/step\n",
            "Epoch 35/100\n",
            "99/99 - 1s - loss: 1.8204 - accuracy: 0.4083 - val_loss: 1.5524 - val_accuracy: 0.5786 - 1s/epoch - 11ms/step\n",
            "Epoch 36/100\n",
            "99/99 - 1s - loss: 1.8067 - accuracy: 0.4070 - val_loss: 1.5247 - val_accuracy: 0.5764 - 1s/epoch - 10ms/step\n",
            "Epoch 37/100\n",
            "99/99 - 1s - loss: 1.7833 - accuracy: 0.4163 - val_loss: 1.4979 - val_accuracy: 0.5807 - 1s/epoch - 11ms/step\n",
            "Epoch 38/100\n",
            "99/99 - 1s - loss: 1.7520 - accuracy: 0.4280 - val_loss: 1.4714 - val_accuracy: 0.5907 - 1s/epoch - 11ms/step\n",
            "Epoch 39/100\n",
            "99/99 - 1s - loss: 1.7397 - accuracy: 0.4374 - val_loss: 1.4467 - val_accuracy: 0.5914 - 1s/epoch - 11ms/step\n",
            "Epoch 40/100\n",
            "99/99 - 1s - loss: 1.7082 - accuracy: 0.4448 - val_loss: 1.4212 - val_accuracy: 0.5950 - 1s/epoch - 11ms/step\n",
            "Epoch 41/100\n",
            "99/99 - 1s - loss: 1.6844 - accuracy: 0.4490 - val_loss: 1.3967 - val_accuracy: 0.5993 - 1s/epoch - 11ms/step\n",
            "Epoch 42/100\n",
            "99/99 - 1s - loss: 1.6592 - accuracy: 0.4586 - val_loss: 1.3723 - val_accuracy: 0.6021 - 1s/epoch - 11ms/step\n",
            "Epoch 43/100\n",
            "99/99 - 1s - loss: 1.6353 - accuracy: 0.4687 - val_loss: 1.3491 - val_accuracy: 0.6036 - 1s/epoch - 11ms/step\n",
            "Epoch 44/100\n",
            "99/99 - 1s - loss: 1.6209 - accuracy: 0.4749 - val_loss: 1.3281 - val_accuracy: 0.6021 - 1s/epoch - 11ms/step\n",
            "Epoch 45/100\n",
            "99/99 - 1s - loss: 1.6000 - accuracy: 0.4816 - val_loss: 1.3080 - val_accuracy: 0.6093 - 1s/epoch - 11ms/step\n",
            "Epoch 46/100\n",
            "99/99 - 1s - loss: 1.5929 - accuracy: 0.4839 - val_loss: 1.2895 - val_accuracy: 0.6100 - 1s/epoch - 11ms/step\n",
            "Epoch 47/100\n",
            "99/99 - 1s - loss: 1.5604 - accuracy: 0.4912 - val_loss: 1.2691 - val_accuracy: 0.6164 - 1s/epoch - 11ms/step\n",
            "Epoch 48/100\n",
            "99/99 - 1s - loss: 1.5505 - accuracy: 0.4911 - val_loss: 1.2521 - val_accuracy: 0.6164 - 1s/epoch - 11ms/step\n",
            "Epoch 49/100\n",
            "99/99 - 1s - loss: 1.5161 - accuracy: 0.5037 - val_loss: 1.2341 - val_accuracy: 0.6236 - 1s/epoch - 11ms/step\n",
            "Epoch 50/100\n",
            "99/99 - 1s - loss: 1.5121 - accuracy: 0.5052 - val_loss: 1.2176 - val_accuracy: 0.6293 - 1s/epoch - 11ms/step\n",
            "Epoch 51/100\n",
            "99/99 - 1s - loss: 1.4900 - accuracy: 0.5133 - val_loss: 1.2012 - val_accuracy: 0.6357 - 1s/epoch - 11ms/step\n",
            "Epoch 52/100\n",
            "99/99 - 1s - loss: 1.4745 - accuracy: 0.5191 - val_loss: 1.1871 - val_accuracy: 0.6421 - 1s/epoch - 11ms/step\n",
            "Epoch 53/100\n",
            "99/99 - 1s - loss: 1.4570 - accuracy: 0.5217 - val_loss: 1.1730 - val_accuracy: 0.6464 - 1s/epoch - 11ms/step\n",
            "Epoch 54/100\n",
            "99/99 - 1s - loss: 1.4391 - accuracy: 0.5271 - val_loss: 1.1579 - val_accuracy: 0.6486 - 1s/epoch - 11ms/step\n",
            "Epoch 55/100\n",
            "99/99 - 1s - loss: 1.4277 - accuracy: 0.5338 - val_loss: 1.1449 - val_accuracy: 0.6479 - 1s/epoch - 11ms/step\n",
            "Epoch 56/100\n",
            "99/99 - 1s - loss: 1.4192 - accuracy: 0.5354 - val_loss: 1.1315 - val_accuracy: 0.6507 - 1s/epoch - 11ms/step\n",
            "Epoch 57/100\n",
            "99/99 - 1s - loss: 1.4045 - accuracy: 0.5407 - val_loss: 1.1198 - val_accuracy: 0.6543 - 1s/epoch - 11ms/step\n",
            "Epoch 58/100\n",
            "99/99 - 1s - loss: 1.3908 - accuracy: 0.5451 - val_loss: 1.1081 - val_accuracy: 0.6564 - 1s/epoch - 11ms/step\n",
            "Epoch 59/100\n",
            "99/99 - 1s - loss: 1.3686 - accuracy: 0.5573 - val_loss: 1.0963 - val_accuracy: 0.6614 - 1s/epoch - 11ms/step\n",
            "Epoch 60/100\n",
            "99/99 - 1s - loss: 1.3544 - accuracy: 0.5576 - val_loss: 1.0847 - val_accuracy: 0.6629 - 1s/epoch - 11ms/step\n",
            "Epoch 61/100\n",
            "99/99 - 1s - loss: 1.3536 - accuracy: 0.5543 - val_loss: 1.0752 - val_accuracy: 0.6664 - 1s/epoch - 11ms/step\n",
            "Epoch 62/100\n",
            "99/99 - 1s - loss: 1.3424 - accuracy: 0.5608 - val_loss: 1.0656 - val_accuracy: 0.6700 - 1s/epoch - 10ms/step\n",
            "Epoch 63/100\n",
            "99/99 - 1s - loss: 1.3315 - accuracy: 0.5680 - val_loss: 1.0567 - val_accuracy: 0.6721 - 1s/epoch - 11ms/step\n",
            "Epoch 64/100\n",
            "99/99 - 1s - loss: 1.3145 - accuracy: 0.5740 - val_loss: 1.0471 - val_accuracy: 0.6757 - 1s/epoch - 11ms/step\n",
            "Epoch 65/100\n",
            "99/99 - 1s - loss: 1.3071 - accuracy: 0.5777 - val_loss: 1.0369 - val_accuracy: 0.6814 - 1s/epoch - 11ms/step\n",
            "Epoch 66/100\n",
            "99/99 - 1s - loss: 1.2982 - accuracy: 0.5775 - val_loss: 1.0282 - val_accuracy: 0.6829 - 1s/epoch - 11ms/step\n",
            "Epoch 67/100\n",
            "99/99 - 1s - loss: 1.2752 - accuracy: 0.5877 - val_loss: 1.0187 - val_accuracy: 0.6850 - 1s/epoch - 11ms/step\n",
            "Epoch 68/100\n",
            "99/99 - 1s - loss: 1.2751 - accuracy: 0.5910 - val_loss: 1.0101 - val_accuracy: 0.6900 - 1s/epoch - 11ms/step\n",
            "Epoch 69/100\n",
            "99/99 - 1s - loss: 1.2687 - accuracy: 0.5890 - val_loss: 1.0026 - val_accuracy: 0.6914 - 1s/epoch - 11ms/step\n",
            "Epoch 70/100\n",
            "99/99 - 1s - loss: 1.2581 - accuracy: 0.5930 - val_loss: 0.9949 - val_accuracy: 0.6971 - 1s/epoch - 11ms/step\n",
            "Epoch 71/100\n",
            "99/99 - 1s - loss: 1.2490 - accuracy: 0.5991 - val_loss: 0.9870 - val_accuracy: 0.6979 - 1s/epoch - 11ms/step\n",
            "Epoch 72/100\n",
            "99/99 - 1s - loss: 1.2323 - accuracy: 0.6018 - val_loss: 0.9792 - val_accuracy: 0.7000 - 1s/epoch - 11ms/step\n",
            "Epoch 73/100\n",
            "99/99 - 1s - loss: 1.2333 - accuracy: 0.6025 - val_loss: 0.9721 - val_accuracy: 0.7007 - 1s/epoch - 11ms/step\n",
            "Epoch 74/100\n",
            "99/99 - 1s - loss: 1.2229 - accuracy: 0.6040 - val_loss: 0.9644 - val_accuracy: 0.7036 - 1s/epoch - 11ms/step\n",
            "Epoch 75/100\n",
            "99/99 - 1s - loss: 1.2060 - accuracy: 0.6103 - val_loss: 0.9562 - val_accuracy: 0.7050 - 1s/epoch - 11ms/step\n",
            "Epoch 76/100\n",
            "99/99 - 1s - loss: 1.1997 - accuracy: 0.6156 - val_loss: 0.9487 - val_accuracy: 0.7064 - 1s/epoch - 11ms/step\n",
            "Epoch 77/100\n",
            "99/99 - 1s - loss: 1.1990 - accuracy: 0.6079 - val_loss: 0.9420 - val_accuracy: 0.7114 - 1s/epoch - 11ms/step\n",
            "Epoch 78/100\n",
            "99/99 - 1s - loss: 1.1885 - accuracy: 0.6210 - val_loss: 0.9351 - val_accuracy: 0.7086 - 1s/epoch - 11ms/step\n",
            "Epoch 79/100\n",
            "99/99 - 1s - loss: 1.1810 - accuracy: 0.6191 - val_loss: 0.9288 - val_accuracy: 0.7121 - 1s/epoch - 11ms/step\n",
            "Epoch 80/100\n",
            "99/99 - 1s - loss: 1.1800 - accuracy: 0.6236 - val_loss: 0.9219 - val_accuracy: 0.7150 - 1s/epoch - 11ms/step\n",
            "Epoch 81/100\n",
            "99/99 - 1s - loss: 1.1691 - accuracy: 0.6263 - val_loss: 0.9164 - val_accuracy: 0.7143 - 1s/epoch - 10ms/step\n",
            "Epoch 82/100\n",
            "99/99 - 1s - loss: 1.1539 - accuracy: 0.6307 - val_loss: 0.9095 - val_accuracy: 0.7171 - 1s/epoch - 11ms/step\n",
            "Epoch 83/100\n",
            "99/99 - 1s - loss: 1.1494 - accuracy: 0.6379 - val_loss: 0.9029 - val_accuracy: 0.7200 - 1s/epoch - 11ms/step\n",
            "Epoch 84/100\n",
            "99/99 - 1s - loss: 1.1511 - accuracy: 0.6309 - val_loss: 0.8973 - val_accuracy: 0.7214 - 1s/epoch - 11ms/step\n",
            "Epoch 85/100\n",
            "99/99 - 1s - loss: 1.1329 - accuracy: 0.6347 - val_loss: 0.8915 - val_accuracy: 0.7264 - 1s/epoch - 11ms/step\n",
            "Epoch 86/100\n",
            "99/99 - 1s - loss: 1.1292 - accuracy: 0.6387 - val_loss: 0.8857 - val_accuracy: 0.7286 - 1s/epoch - 11ms/step\n",
            "Epoch 87/100\n",
            "99/99 - 1s - loss: 1.1323 - accuracy: 0.6379 - val_loss: 0.8807 - val_accuracy: 0.7300 - 1s/epoch - 11ms/step\n",
            "Epoch 88/100\n",
            "99/99 - 1s - loss: 1.1162 - accuracy: 0.6433 - val_loss: 0.8745 - val_accuracy: 0.7300 - 1s/epoch - 11ms/step\n",
            "Epoch 89/100\n",
            "99/99 - 1s - loss: 1.1073 - accuracy: 0.6428 - val_loss: 0.8686 - val_accuracy: 0.7321 - 1s/epoch - 11ms/step\n",
            "Epoch 90/100\n",
            "99/99 - 1s - loss: 1.0946 - accuracy: 0.6548 - val_loss: 0.8627 - val_accuracy: 0.7321 - 1s/epoch - 11ms/step\n",
            "Epoch 91/100\n",
            "99/99 - 1s - loss: 1.1014 - accuracy: 0.6475 - val_loss: 0.8576 - val_accuracy: 0.7371 - 1s/epoch - 11ms/step\n",
            "Epoch 92/100\n",
            "99/99 - 1s - loss: 1.0881 - accuracy: 0.6532 - val_loss: 0.8522 - val_accuracy: 0.7371 - 1s/epoch - 11ms/step\n",
            "Epoch 93/100\n",
            "99/99 - 1s - loss: 1.0839 - accuracy: 0.6552 - val_loss: 0.8470 - val_accuracy: 0.7386 - 1s/epoch - 11ms/step\n",
            "Epoch 94/100\n",
            "99/99 - 1s - loss: 1.0772 - accuracy: 0.6579 - val_loss: 0.8422 - val_accuracy: 0.7371 - 1s/epoch - 11ms/step\n",
            "Epoch 95/100\n",
            "99/99 - 1s - loss: 1.0742 - accuracy: 0.6551 - val_loss: 0.8367 - val_accuracy: 0.7386 - 1s/epoch - 11ms/step\n",
            "Epoch 96/100\n",
            "99/99 - 1s - loss: 1.0734 - accuracy: 0.6529 - val_loss: 0.8318 - val_accuracy: 0.7379 - 1s/epoch - 11ms/step\n",
            "Epoch 97/100\n",
            "99/99 - 1s - loss: 1.0711 - accuracy: 0.6583 - val_loss: 0.8279 - val_accuracy: 0.7414 - 1s/epoch - 11ms/step\n",
            "Epoch 98/100\n",
            "99/99 - 1s - loss: 1.0677 - accuracy: 0.6590 - val_loss: 0.8233 - val_accuracy: 0.7429 - 1s/epoch - 11ms/step\n",
            "Epoch 99/100\n",
            "99/99 - 1s - loss: 1.0450 - accuracy: 0.6725 - val_loss: 0.8179 - val_accuracy: 0.7421 - 1s/epoch - 11ms/step\n",
            "Epoch 100/100\n",
            "99/99 - 1s - loss: 1.0575 - accuracy: 0.6612 - val_loss: 0.8132 - val_accuracy: 0.7471 - 1s/epoch - 11ms/step\n"
          ]
        }
      ]
    },
    {
      "cell_type": "markdown",
      "metadata": {
        "id": "8w7UIdtIWuCD"
      },
      "source": [
        "## Analyze and comment the training results\n",
        "\n",
        "here goes any comment/visualization of the training history and any initial consideration on the training results  "
      ]
    },
    {
      "cell_type": "markdown",
      "metadata": {
        "id": "sx816BZoYVu8"
      },
      "source": [
        "Di seguito si può vedere il plot dei risultati del training non utilizzando una regolarizazione e possiamo vedere che la curva creata senza regularization appare migliore rispetto a quella di Dropout"
      ]
    },
    {
      "cell_type": "code",
      "metadata": {
        "colab": {
          "base_uri": "https://localhost:8080/",
          "height": 541
        },
        "id": "GNy2zRs-nwEl",
        "outputId": "47d686fa-e218-4646-a83d-a5434685f8bf"
      },
      "source": [
        "x_plot = list(range(1,n_epochs+1))\n",
        "\n",
        "def plot_history(network_history):\n",
        "    plt.figure()\n",
        "    plt.xlabel('Epochs')\n",
        "    plt.ylabel('Loss')\n",
        "    #plt.ylim(0.6,0.8)#just for better viz\n",
        "    plt.plot(x_plot, network_history.history['loss'])\n",
        "    plt.plot(x_plot, network_history.history['val_loss'])\n",
        "    plt.legend(['Training', 'Validation'])\n",
        "\n",
        "    plt.figure()\n",
        "    plt.xlabel('Epochs')\n",
        "    plt.ylabel('Accuracy')\n",
        "    plt.plot(x_plot, network_history.history['accuracy'])\n",
        "    plt.plot(x_plot, network_history.history['val_accuracy'])\n",
        "    plt.legend(['Training', 'Validation'], loc='lower right')\n",
        "    plt.show()\n",
        "\n",
        "\n",
        "plot_history(network_history)"
      ],
      "execution_count": 84,
      "outputs": [
        {
          "output_type": "display_data",
          "data": {
            "image/png": "[encoded data removed]",
            "text/plain": [
              "<Figure size 432x288 with 1 Axes>"
            ]
          },
          "metadata": {
            "needs_background": "light"
          }
        },
        {
          "output_type": "display_data",
          "data": {
            "image/png": "[encoded data removed]",
            "text/plain": [
              "<Figure size 432x288 with 1 Axes>"
            ]
          },
          "metadata": {
            "needs_background": "light"
          }
        }
      ]
    },
    {
      "cell_type": "code",
      "metadata": {
        "colab": {
          "base_uri": "https://localhost:8080/",
          "height": 541
        },
        "id": "PeNRKnkfdxfR",
        "outputId": "11042af0-fd37-4f3e-9091-4b2786e44ad5"
      },
      "source": [
        "x_plot = list(range(1,n_epochs+1))\n",
        "\n",
        "def plot_history(model_d_history):\n",
        "    plt.figure()\n",
        "    plt.xlabel('Epochs')\n",
        "    plt.ylabel('Loss')\n",
        "    #plt.ylim(0.6,0.8)#just for better viz\n",
        "    plt.plot(x_plot, model_d_history.history['loss'])\n",
        "    plt.plot(x_plot, model_d_history.history['val_loss'])\n",
        "    plt.legend(['Training', 'Validation'])\n",
        "\n",
        "    plt.figure()\n",
        "    plt.xlabel('Epochs')\n",
        "    plt.ylabel('Accuracy')\n",
        "    plt.plot(x_plot, model_d_history.history['accuracy'])\n",
        "    plt.plot(x_plot, model_d_history.history['val_accuracy'])\n",
        "    plt.legend(['Training', 'Validation'], loc='lower right')\n",
        "    plt.show()\n",
        "\n",
        "\n",
        "plot_history(model_d_history)"
      ],
      "execution_count": 85,
      "outputs": [
        {
          "output_type": "display_data",
          "data": {
            "image/png": "[encoded data removed]",
            "text/plain": [
              "<Figure size 432x288 with 1 Axes>"
            ]
          },
          "metadata": {
            "needs_background": "light"
          }
        },
        {
          "output_type": "display_data",
          "data": {
            "image/png": "[encoded data removed]",
            "text/plain": [
              "<Figure size 432x288 with 1 Axes>"
            ]
          },
          "metadata": {
            "needs_background": "light"
          }
        }
      ]
    },
    {
      "cell_type": "markdown",
      "metadata": {
        "id": "2jiOZzvyJbsN"
      },
      "source": [
        "## Validate the model and comment the result"
      ]
    },
    {
      "cell_type": "markdown",
      "metadata": {
        "id": "RO1je0K3OzYa"
      },
      "source": [
        "Valuto numericamente oltre che con le curve al punto precedente le performance dei due modelli, si può notare che anche numericamente il modello non regolarizzato performi meglio."
      ]
    },
    {
      "cell_type": "code",
      "metadata": {
        "colab": {
          "base_uri": "https://localhost:8080/"
        },
        "id": "5YJQPHYgwS3b",
        "outputId": "bb7bec4f-07a3-480f-ef6f-00e9f177fd7d"
      },
      "source": [
        "score = model.evaluate(XX_val, YY_val, batch_size=128)\n"
      ],
      "execution_count": 88,
      "outputs": [
        {
          "output_type": "stream",
          "name": "stdout",
          "text": [
            "11/11 [==============================] - 0s 6ms/step - loss: 0.5996 - accuracy: 0.8086\n"
          ]
        }
      ]
    },
    {
      "cell_type": "code",
      "metadata": {
        "id": "VMzBxVTa6p-3"
      },
      "source": [
        "y_classes_evalutation= model.predict(XX_val)"
      ],
      "execution_count": 95,
      "outputs": []
    },
    {
      "cell_type": "code",
      "metadata": {
        "id": "dJFPSKue6vdP"
      },
      "source": [
        "o = y_classes_evalutation.argmax(axis=-1)"
      ],
      "execution_count": 98,
      "outputs": []
    },
    {
      "cell_type": "code",
      "metadata": {
        "id": "wdwREMXi7jzO"
      },
      "source": [
        "val_y=YY_val.argmax(axis=-1)"
      ],
      "execution_count": 102,
      "outputs": []
    },
    {
      "cell_type": "code",
      "metadata": {
        "colab": {
          "base_uri": "https://localhost:8080/"
        },
        "id": "wFBRULd_vpHh",
        "outputId": "38e87b8b-1098-4f5e-fe6f-4bbb005a4fc4"
      },
      "source": [
        "print(classification_report(o,val_y))"
      ],
      "execution_count": 103,
      "outputs": [
        {
          "output_type": "stream",
          "name": "stdout",
          "text": [
            "              precision    recall  f1-score   support\n",
            "\n",
            "          16       0.84      0.78      0.81       144\n",
            "          17       0.74      0.80      0.77       120\n",
            "          18       0.73      0.77      0.75       113\n",
            "          19       0.86      0.94      0.90       114\n",
            "          20       0.72      0.67      0.69       156\n",
            "          21       0.85      0.87      0.86       123\n",
            "          22       0.76      0.80      0.78       128\n",
            "          23       0.91      0.89      0.90       153\n",
            "          24       0.81      0.82      0.82       112\n",
            "          25       0.79      0.76      0.78       147\n",
            "          26       0.90      0.86      0.88        90\n",
            "\n",
            "    accuracy                           0.81      1400\n",
            "   macro avg       0.81      0.81      0.81      1400\n",
            "weighted avg       0.81      0.81      0.81      1400\n",
            "\n"
          ]
        }
      ]
    },
    {
      "cell_type": "code",
      "metadata": {
        "colab": {
          "base_uri": "https://localhost:8080/"
        },
        "id": "ahrX9OGM7wKj",
        "outputId": "e3edf95c-095c-47d7-84a2-686e6bb9fd3d"
      },
      "source": [
        "score = model_d.evaluate(XX_val, YY_val, batch_size=128)\n",
        "y_classes_evalutation= model_d.predict(XX_val)\n",
        "o = y_classes_evalutation.argmax(axis=-1)\n",
        "val_y=YY_val.argmax(axis=-1)\n",
        "print(classification_report(o,val_y))"
      ],
      "execution_count": 105,
      "outputs": [
        {
          "output_type": "stream",
          "name": "stdout",
          "text": [
            "11/11 [==============================] - 0s 6ms/step - loss: 0.8132 - accuracy: 0.7471\n",
            "              precision    recall  f1-score   support\n",
            "\n",
            "          16       0.75      0.70      0.73       142\n",
            "          17       0.69      0.75      0.72       118\n",
            "          18       0.69      0.62      0.65       132\n",
            "          19       0.90      0.90      0.90       124\n",
            "          20       0.51      0.52      0.51       140\n",
            "          21       0.80      0.76      0.78       133\n",
            "          22       0.68      0.77      0.72       120\n",
            "          23       0.92      0.88      0.90       157\n",
            "          24       0.84      0.78      0.81       122\n",
            "          25       0.71      0.74      0.72       136\n",
            "          26       0.76      0.86      0.80        76\n",
            "\n",
            "    accuracy                           0.75      1400\n",
            "   macro avg       0.75      0.75      0.75      1400\n",
            "weighted avg       0.75      0.75      0.75      1400\n",
            "\n"
          ]
        }
      ]
    },
    {
      "cell_type": "markdown",
      "metadata": {
        "id": "5MhCwXroWmf9"
      },
      "source": [
        "## Make predictions (on the provided test set)"
      ]
    },
    {
      "cell_type": "markdown",
      "metadata": {
        "id": "mID7XbIwP_0q"
      },
      "source": [
        "Date le performance precedenti sul validation set mi aspetto che il modello performi bene su dati che non gli sono mai stati passati."
      ]
    },
    {
      "cell_type": "code",
      "metadata": {
        "id": "fbtA2vJRWpMY",
        "colab": {
          "base_uri": "https://localhost:8080/"
        },
        "outputId": "7f0cadf0-006c-450f-aeb5-1961cacefcc1"
      },
      "source": [
        "predictions = model.predict(x_test)\n",
        "print('predictions shape:', predictions.shape)"
      ],
      "execution_count": 110,
      "outputs": [
        {
          "output_type": "stream",
          "name": "stdout",
          "text": [
            "predictions shape: (8800, 27)\n"
          ]
        }
      ]
    },
    {
      "cell_type": "markdown",
      "metadata": {
        "id": "9w-sa4AlaBJg"
      },
      "source": [
        "## [OPTIONAL] -- Export the predictions in the format indicated in the assignment release page."
      ]
    },
    {
      "cell_type": "code",
      "metadata": {
        "id": "B_GLMUj9MfQr"
      },
      "source": [
        "prediction_print=predictions.argmax(axis=-1)"
      ],
      "execution_count": 112,
      "outputs": []
    },
    {
      "cell_type": "code",
      "metadata": {
        "colab": {
          "base_uri": "https://localhost:8080/"
        },
        "id": "7djlLIY6cxbb",
        "outputId": "18f4ddfb-5829-486e-870b-1d2329cec8bd"
      },
      "source": [
        "unique, counts = np.unique(prediction_print, return_counts=True)\n",
        "dict(zip(unique, counts))"
      ],
      "execution_count": 114,
      "outputs": [
        {
          "output_type": "execute_result",
          "data": {
            "text/plain": [
              "{16: 834,\n",
              " 17: 783,\n",
              " 18: 786,\n",
              " 19: 767,\n",
              " 20: 840,\n",
              " 21: 814,\n",
              " 22: 811,\n",
              " 23: 858,\n",
              " 24: 792,\n",
              " 25: 817,\n",
              " 26: 698}"
            ]
          },
          "metadata": {},
          "execution_count": 114
        }
      ]
    },
    {
      "cell_type": "code",
      "metadata": {
        "id": "x2kx7Y0lGcvf"
      },
      "source": [
        "np.savetxt(\"Artemisia_Sarteschi_829677_score2.txt\",prediction_print, fmt='%-d')"
      ],
      "execution_count": 115,
      "outputs": []
    },
    {
      "cell_type": "markdown",
      "metadata": {
        "id": "5DvuOTd2pZ3r"
      },
      "source": [
        "# 2. The developement of a simple auto-encoder model  [Mandatory]\n",
        "visually investigating  the reconstruction abilities of such an architecture, i.e. comparison of the input and the output (reconstructed input) (as seen in class)."
      ]
    },
    {
      "cell_type": "markdown",
      "metadata": {
        "id": "rrhYuXdUp0s7"
      },
      "source": [
        "## Building the network"
      ]
    },
    {
      "cell_type": "markdown",
      "metadata": {
        "id": "d_6mNXi1iTIu"
      },
      "source": [
        "L'idea dell'autoeconder è quella di mappare dal numero di feature in input (784) in 64 per comprimere l'informazione"
      ]
    },
    {
      "cell_type": "code",
      "metadata": {
        "id": "7ch1w7j5qKGJ"
      },
      "source": [
        "encoding_dim = 64  \n",
        "input_img = Input(shape=(784,)) \n",
        "encoded = Dense(encoding_dim, activation='relu')(input_img)\n",
        "decoded = Dense(784, activation='sigmoid')(encoded)\n",
        "\n",
        "autoencoder = Model(input_img, decoded)"
      ],
      "execution_count": 116,
      "outputs": []
    },
    {
      "cell_type": "code",
      "metadata": {
        "colab": {
          "base_uri": "https://localhost:8080/"
        },
        "id": "p-coPWRlGDLJ",
        "outputId": "9ecc4675-bca8-422d-926a-9bfbba26e101"
      },
      "source": [
        "autoencoder.compile(optimizer=\"adam\", loss='binary_crossentropy', metrics = [\"mse\"])\n",
        "autoencoder.summary()"
      ],
      "execution_count": 118,
      "outputs": [
        {
          "output_type": "stream",
          "name": "stdout",
          "text": [
            "Model: \"model\"\n",
            "_________________________________________________________________\n",
            " Layer (type)                Output Shape              Param #   \n",
            "=================================================================\n",
            " input_1 (InputLayer)        [(None, 784)]             0         \n",
            "                                                                 \n",
            " dense_50 (Dense)            (None, 64)                50240     \n",
            "                                                                 \n",
            " dense_51 (Dense)            (None, 784)               50960     \n",
            "                                                                 \n",
            "=================================================================\n",
            "Total params: 101,200\n",
            "Trainable params: 101,200\n",
            "Non-trainable params: 0\n",
            "_________________________________________________________________\n"
          ]
        }
      ]
    },
    {
      "cell_type": "code",
      "metadata": {
        "colab": {
          "base_uri": "https://localhost:8080/"
        },
        "id": "Vo_rtLcTGGrR",
        "outputId": "d33eb031-dbae-4e57-a5ec-b37d01f5fbfb"
      },
      "source": [
        "history_autoencoder = autoencoder.fit(XX_train,XX_train,epochs=n_epochs, batch_size=1024,shuffle=True, validation_data=(XX_val, XX_val))"
      ],
      "execution_count": 119,
      "outputs": [
        {
          "output_type": "stream",
          "name": "stdout",
          "text": [
            "Epoch 1/100\n",
            "13/13 [==============================] - 1s 49ms/step - loss: 0.6436 - mse: 0.1928 - val_loss: 0.5293 - val_mse: 0.1400\n",
            "Epoch 2/100\n",
            "13/13 [==============================] - 1s 40ms/step - loss: 0.4469 - mse: 0.1079 - val_loss: 0.3874 - val_mse: 0.0890\n",
            "Epoch 3/100\n",
            "13/13 [==============================] - 1s 40ms/step - loss: 0.3699 - mse: 0.0853 - val_loss: 0.3583 - val_mse: 0.0831\n",
            "Epoch 4/100\n",
            "13/13 [==============================] - 1s 39ms/step - loss: 0.3472 - mse: 0.0793 - val_loss: 0.3386 - val_mse: 0.0765\n",
            "Epoch 5/100\n",
            "13/13 [==============================] - 1s 40ms/step - loss: 0.3275 - mse: 0.0723 - val_loss: 0.3199 - val_mse: 0.0698\n",
            "Epoch 6/100\n",
            "13/13 [==============================] - 1s 39ms/step - loss: 0.3093 - mse: 0.0658 - val_loss: 0.3031 - val_mse: 0.0638\n",
            "Epoch 7/100\n",
            "13/13 [==============================] - 1s 39ms/step - loss: 0.2931 - mse: 0.0601 - val_loss: 0.2886 - val_mse: 0.0587\n",
            "Epoch 8/100\n",
            "13/13 [==============================] - 0s 38ms/step - loss: 0.2796 - mse: 0.0554 - val_loss: 0.2763 - val_mse: 0.0545\n",
            "Epoch 9/100\n",
            "13/13 [==============================] - 1s 40ms/step - loss: 0.2678 - mse: 0.0512 - val_loss: 0.2650 - val_mse: 0.0506\n",
            "Epoch 10/100\n",
            "13/13 [==============================] - 1s 39ms/step - loss: 0.2571 - mse: 0.0476 - val_loss: 0.2549 - val_mse: 0.0471\n",
            "Epoch 11/100\n",
            "13/13 [==============================] - 1s 39ms/step - loss: 0.2475 - mse: 0.0443 - val_loss: 0.2459 - val_mse: 0.0441\n",
            "Epoch 12/100\n",
            "13/13 [==============================] - 1s 39ms/step - loss: 0.2392 - mse: 0.0415 - val_loss: 0.2382 - val_mse: 0.0415\n",
            "Epoch 13/100\n",
            "13/13 [==============================] - 1s 40ms/step - loss: 0.2319 - mse: 0.0391 - val_loss: 0.2313 - val_mse: 0.0392\n",
            "Epoch 14/100\n",
            "13/13 [==============================] - 1s 40ms/step - loss: 0.2255 - mse: 0.0370 - val_loss: 0.2253 - val_mse: 0.0373\n",
            "Epoch 15/100\n",
            "13/13 [==============================] - 1s 40ms/step - loss: 0.2197 - mse: 0.0351 - val_loss: 0.2198 - val_mse: 0.0355\n",
            "Epoch 16/100\n",
            "13/13 [==============================] - 1s 39ms/step - loss: 0.2144 - mse: 0.0334 - val_loss: 0.2148 - val_mse: 0.0338\n",
            "Epoch 17/100\n",
            "13/13 [==============================] - 1s 42ms/step - loss: 0.2097 - mse: 0.0318 - val_loss: 0.2102 - val_mse: 0.0324\n",
            "Epoch 18/100\n",
            "13/13 [==============================] - 1s 39ms/step - loss: 0.2053 - mse: 0.0304 - val_loss: 0.2061 - val_mse: 0.0310\n",
            "Epoch 19/100\n",
            "13/13 [==============================] - 1s 39ms/step - loss: 0.2014 - mse: 0.0291 - val_loss: 0.2023 - val_mse: 0.0298\n",
            "Epoch 20/100\n",
            "13/13 [==============================] - 1s 40ms/step - loss: 0.1977 - mse: 0.0279 - val_loss: 0.1989 - val_mse: 0.0287\n",
            "Epoch 21/100\n",
            "13/13 [==============================] - 1s 40ms/step - loss: 0.1944 - mse: 0.0269 - val_loss: 0.1958 - val_mse: 0.0277\n",
            "Epoch 22/100\n",
            "13/13 [==============================] - 1s 39ms/step - loss: 0.1914 - mse: 0.0259 - val_loss: 0.1929 - val_mse: 0.0267\n",
            "Epoch 23/100\n",
            "13/13 [==============================] - 1s 40ms/step - loss: 0.1887 - mse: 0.0251 - val_loss: 0.1903 - val_mse: 0.0259\n",
            "Epoch 24/100\n",
            "13/13 [==============================] - 1s 41ms/step - loss: 0.1861 - mse: 0.0242 - val_loss: 0.1879 - val_mse: 0.0252\n",
            "Epoch 25/100\n",
            "13/13 [==============================] - 1s 39ms/step - loss: 0.1838 - mse: 0.0235 - val_loss: 0.1858 - val_mse: 0.0245\n",
            "Epoch 26/100\n",
            "13/13 [==============================] - 1s 40ms/step - loss: 0.1817 - mse: 0.0228 - val_loss: 0.1836 - val_mse: 0.0238\n",
            "Epoch 27/100\n",
            "13/13 [==============================] - 0s 38ms/step - loss: 0.1796 - mse: 0.0222 - val_loss: 0.1816 - val_mse: 0.0231\n",
            "Epoch 28/100\n",
            "13/13 [==============================] - 1s 39ms/step - loss: 0.1777 - mse: 0.0216 - val_loss: 0.1798 - val_mse: 0.0225\n",
            "Epoch 29/100\n",
            "13/13 [==============================] - 1s 40ms/step - loss: 0.1759 - mse: 0.0210 - val_loss: 0.1780 - val_mse: 0.0220\n",
            "Epoch 30/100\n",
            "13/13 [==============================] - 1s 41ms/step - loss: 0.1742 - mse: 0.0205 - val_loss: 0.1764 - val_mse: 0.0214\n",
            "Epoch 31/100\n",
            "13/13 [==============================] - 1s 39ms/step - loss: 0.1726 - mse: 0.0199 - val_loss: 0.1747 - val_mse: 0.0209\n",
            "Epoch 32/100\n",
            "13/13 [==============================] - 1s 40ms/step - loss: 0.1709 - mse: 0.0194 - val_loss: 0.1731 - val_mse: 0.0203\n",
            "Epoch 33/100\n",
            "13/13 [==============================] - 1s 40ms/step - loss: 0.1694 - mse: 0.0189 - val_loss: 0.1714 - val_mse: 0.0198\n",
            "Epoch 34/100\n",
            "13/13 [==============================] - 1s 40ms/step - loss: 0.1678 - mse: 0.0184 - val_loss: 0.1698 - val_mse: 0.0193\n",
            "Epoch 35/100\n",
            "13/13 [==============================] - 1s 39ms/step - loss: 0.1663 - mse: 0.0179 - val_loss: 0.1682 - val_mse: 0.0188\n",
            "Epoch 36/100\n",
            "13/13 [==============================] - 1s 41ms/step - loss: 0.1648 - mse: 0.0174 - val_loss: 0.1668 - val_mse: 0.0184\n",
            "Epoch 37/100\n",
            "13/13 [==============================] - 1s 39ms/step - loss: 0.1635 - mse: 0.0170 - val_loss: 0.1655 - val_mse: 0.0179\n",
            "Epoch 38/100\n",
            "13/13 [==============================] - 1s 41ms/step - loss: 0.1622 - mse: 0.0166 - val_loss: 0.1642 - val_mse: 0.0176\n",
            "Epoch 39/100\n",
            "13/13 [==============================] - 1s 39ms/step - loss: 0.1610 - mse: 0.0162 - val_loss: 0.1629 - val_mse: 0.0171\n",
            "Epoch 40/100\n",
            "13/13 [==============================] - 1s 40ms/step - loss: 0.1598 - mse: 0.0159 - val_loss: 0.1617 - val_mse: 0.0168\n",
            "Epoch 41/100\n",
            "13/13 [==============================] - 0s 38ms/step - loss: 0.1587 - mse: 0.0155 - val_loss: 0.1607 - val_mse: 0.0165\n",
            "Epoch 42/100\n",
            "13/13 [==============================] - 1s 41ms/step - loss: 0.1576 - mse: 0.0152 - val_loss: 0.1596 - val_mse: 0.0161\n",
            "Epoch 43/100\n",
            "13/13 [==============================] - 1s 39ms/step - loss: 0.1566 - mse: 0.0149 - val_loss: 0.1585 - val_mse: 0.0158\n",
            "Epoch 44/100\n",
            "13/13 [==============================] - 1s 41ms/step - loss: 0.1556 - mse: 0.0145 - val_loss: 0.1576 - val_mse: 0.0154\n",
            "Epoch 45/100\n",
            "13/13 [==============================] - 1s 40ms/step - loss: 0.1546 - mse: 0.0142 - val_loss: 0.1565 - val_mse: 0.0152\n",
            "Epoch 46/100\n",
            "13/13 [==============================] - 1s 40ms/step - loss: 0.1537 - mse: 0.0139 - val_loss: 0.1556 - val_mse: 0.0149\n",
            "Epoch 47/100\n",
            "13/13 [==============================] - 1s 40ms/step - loss: 0.1528 - mse: 0.0137 - val_loss: 0.1548 - val_mse: 0.0146\n",
            "Epoch 48/100\n",
            "13/13 [==============================] - 1s 40ms/step - loss: 0.1520 - mse: 0.0134 - val_loss: 0.1539 - val_mse: 0.0144\n",
            "Epoch 49/100\n",
            "13/13 [==============================] - 1s 39ms/step - loss: 0.1512 - mse: 0.0132 - val_loss: 0.1530 - val_mse: 0.0141\n",
            "Epoch 50/100\n",
            "13/13 [==============================] - 1s 40ms/step - loss: 0.1504 - mse: 0.0129 - val_loss: 0.1523 - val_mse: 0.0138\n",
            "Epoch 51/100\n",
            "13/13 [==============================] - 1s 40ms/step - loss: 0.1496 - mse: 0.0127 - val_loss: 0.1514 - val_mse: 0.0135\n",
            "Epoch 52/100\n",
            "13/13 [==============================] - 1s 40ms/step - loss: 0.1489 - mse: 0.0124 - val_loss: 0.1506 - val_mse: 0.0133\n",
            "Epoch 53/100\n",
            "13/13 [==============================] - 1s 41ms/step - loss: 0.1481 - mse: 0.0122 - val_loss: 0.1499 - val_mse: 0.0131\n",
            "Epoch 54/100\n",
            "13/13 [==============================] - 1s 39ms/step - loss: 0.1475 - mse: 0.0120 - val_loss: 0.1494 - val_mse: 0.0130\n",
            "Epoch 55/100\n",
            "13/13 [==============================] - 1s 39ms/step - loss: 0.1468 - mse: 0.0118 - val_loss: 0.1485 - val_mse: 0.0127\n",
            "Epoch 56/100\n",
            "13/13 [==============================] - 1s 39ms/step - loss: 0.1461 - mse: 0.0116 - val_loss: 0.1479 - val_mse: 0.0125\n",
            "Epoch 57/100\n",
            "13/13 [==============================] - 1s 42ms/step - loss: 0.1454 - mse: 0.0114 - val_loss: 0.1473 - val_mse: 0.0122\n",
            "Epoch 58/100\n",
            "13/13 [==============================] - 1s 39ms/step - loss: 0.1448 - mse: 0.0112 - val_loss: 0.1466 - val_mse: 0.0121\n",
            "Epoch 59/100\n",
            "13/13 [==============================] - 1s 40ms/step - loss: 0.1442 - mse: 0.0110 - val_loss: 0.1461 - val_mse: 0.0119\n",
            "Epoch 60/100\n",
            "13/13 [==============================] - 1s 40ms/step - loss: 0.1437 - mse: 0.0108 - val_loss: 0.1454 - val_mse: 0.0117\n",
            "Epoch 61/100\n",
            "13/13 [==============================] - 1s 41ms/step - loss: 0.1431 - mse: 0.0107 - val_loss: 0.1450 - val_mse: 0.0116\n",
            "Epoch 62/100\n",
            "13/13 [==============================] - 1s 40ms/step - loss: 0.1425 - mse: 0.0105 - val_loss: 0.1445 - val_mse: 0.0115\n",
            "Epoch 63/100\n",
            "13/13 [==============================] - 1s 40ms/step - loss: 0.1420 - mse: 0.0103 - val_loss: 0.1437 - val_mse: 0.0112\n",
            "Epoch 64/100\n",
            "13/13 [==============================] - 1s 40ms/step - loss: 0.1415 - mse: 0.0102 - val_loss: 0.1433 - val_mse: 0.0111\n",
            "Epoch 65/100\n",
            "13/13 [==============================] - 1s 40ms/step - loss: 0.1410 - mse: 0.0100 - val_loss: 0.1427 - val_mse: 0.0109\n",
            "Epoch 66/100\n",
            "13/13 [==============================] - 1s 39ms/step - loss: 0.1405 - mse: 0.0099 - val_loss: 0.1422 - val_mse: 0.0107\n",
            "Epoch 67/100\n",
            "13/13 [==============================] - 1s 40ms/step - loss: 0.1401 - mse: 0.0098 - val_loss: 0.1417 - val_mse: 0.0106\n",
            "Epoch 68/100\n",
            "13/13 [==============================] - 1s 40ms/step - loss: 0.1396 - mse: 0.0096 - val_loss: 0.1413 - val_mse: 0.0105\n",
            "Epoch 69/100\n",
            "13/13 [==============================] - 1s 40ms/step - loss: 0.1391 - mse: 0.0095 - val_loss: 0.1408 - val_mse: 0.0103\n",
            "Epoch 70/100\n",
            "13/13 [==============================] - 1s 40ms/step - loss: 0.1387 - mse: 0.0093 - val_loss: 0.1405 - val_mse: 0.0102\n",
            "Epoch 71/100\n",
            "13/13 [==============================] - 1s 40ms/step - loss: 0.1383 - mse: 0.0092 - val_loss: 0.1400 - val_mse: 0.0101\n",
            "Epoch 72/100\n",
            "13/13 [==============================] - 1s 40ms/step - loss: 0.1379 - mse: 0.0091 - val_loss: 0.1397 - val_mse: 0.0100\n",
            "Epoch 73/100\n",
            "13/13 [==============================] - 1s 39ms/step - loss: 0.1374 - mse: 0.0089 - val_loss: 0.1390 - val_mse: 0.0098\n",
            "Epoch 74/100\n",
            "13/13 [==============================] - 1s 39ms/step - loss: 0.1370 - mse: 0.0088 - val_loss: 0.1386 - val_mse: 0.0096\n",
            "Epoch 75/100\n",
            "13/13 [==============================] - 1s 40ms/step - loss: 0.1367 - mse: 0.0087 - val_loss: 0.1382 - val_mse: 0.0095\n",
            "Epoch 76/100\n",
            "13/13 [==============================] - 1s 40ms/step - loss: 0.1363 - mse: 0.0086 - val_loss: 0.1378 - val_mse: 0.0094\n",
            "Epoch 77/100\n",
            "13/13 [==============================] - 1s 40ms/step - loss: 0.1359 - mse: 0.0085 - val_loss: 0.1375 - val_mse: 0.0093\n",
            "Epoch 78/100\n",
            "13/13 [==============================] - 1s 41ms/step - loss: 0.1356 - mse: 0.0084 - val_loss: 0.1373 - val_mse: 0.0092\n",
            "Epoch 79/100\n",
            "13/13 [==============================] - 1s 41ms/step - loss: 0.1353 - mse: 0.0083 - val_loss: 0.1368 - val_mse: 0.0091\n",
            "Epoch 80/100\n",
            "13/13 [==============================] - 1s 39ms/step - loss: 0.1349 - mse: 0.0082 - val_loss: 0.1364 - val_mse: 0.0090\n",
            "Epoch 81/100\n",
            "13/13 [==============================] - 1s 40ms/step - loss: 0.1346 - mse: 0.0081 - val_loss: 0.1361 - val_mse: 0.0089\n",
            "Epoch 82/100\n",
            "13/13 [==============================] - 1s 40ms/step - loss: 0.1343 - mse: 0.0080 - val_loss: 0.1357 - val_mse: 0.0088\n",
            "Epoch 83/100\n",
            "13/13 [==============================] - 1s 39ms/step - loss: 0.1340 - mse: 0.0079 - val_loss: 0.1354 - val_mse: 0.0087\n",
            "Epoch 84/100\n",
            "13/13 [==============================] - 1s 41ms/step - loss: 0.1337 - mse: 0.0078 - val_loss: 0.1352 - val_mse: 0.0086\n",
            "Epoch 85/100\n",
            "13/13 [==============================] - 1s 41ms/step - loss: 0.1334 - mse: 0.0077 - val_loss: 0.1348 - val_mse: 0.0085\n",
            "Epoch 86/100\n",
            "13/13 [==============================] - 1s 40ms/step - loss: 0.1331 - mse: 0.0076 - val_loss: 0.1345 - val_mse: 0.0084\n",
            "Epoch 87/100\n",
            "13/13 [==============================] - 1s 41ms/step - loss: 0.1329 - mse: 0.0076 - val_loss: 0.1344 - val_mse: 0.0084\n",
            "Epoch 88/100\n",
            "13/13 [==============================] - 1s 39ms/step - loss: 0.1326 - mse: 0.0075 - val_loss: 0.1339 - val_mse: 0.0082\n",
            "Epoch 89/100\n",
            "13/13 [==============================] - 1s 40ms/step - loss: 0.1323 - mse: 0.0074 - val_loss: 0.1337 - val_mse: 0.0082\n",
            "Epoch 90/100\n",
            "13/13 [==============================] - 1s 41ms/step - loss: 0.1320 - mse: 0.0073 - val_loss: 0.1334 - val_mse: 0.0081\n",
            "Epoch 91/100\n",
            "13/13 [==============================] - 1s 41ms/step - loss: 0.1318 - mse: 0.0073 - val_loss: 0.1331 - val_mse: 0.0080\n",
            "Epoch 92/100\n",
            "13/13 [==============================] - 1s 40ms/step - loss: 0.1315 - mse: 0.0072 - val_loss: 0.1329 - val_mse: 0.0080\n",
            "Epoch 93/100\n",
            "13/13 [==============================] - 1s 40ms/step - loss: 0.1313 - mse: 0.0071 - val_loss: 0.1326 - val_mse: 0.0079\n",
            "Epoch 94/100\n",
            "13/13 [==============================] - 1s 41ms/step - loss: 0.1311 - mse: 0.0071 - val_loss: 0.1324 - val_mse: 0.0078\n",
            "Epoch 95/100\n",
            "13/13 [==============================] - 1s 40ms/step - loss: 0.1309 - mse: 0.0070 - val_loss: 0.1321 - val_mse: 0.0077\n",
            "Epoch 96/100\n",
            "13/13 [==============================] - 1s 40ms/step - loss: 0.1307 - mse: 0.0069 - val_loss: 0.1319 - val_mse: 0.0077\n",
            "Epoch 97/100\n",
            "13/13 [==============================] - 1s 39ms/step - loss: 0.1305 - mse: 0.0069 - val_loss: 0.1317 - val_mse: 0.0076\n",
            "Epoch 98/100\n",
            "13/13 [==============================] - 1s 42ms/step - loss: 0.1303 - mse: 0.0068 - val_loss: 0.1315 - val_mse: 0.0076\n",
            "Epoch 99/100\n",
            "13/13 [==============================] - 1s 40ms/step - loss: 0.1301 - mse: 0.0068 - val_loss: 0.1312 - val_mse: 0.0075\n",
            "Epoch 100/100\n",
            "13/13 [==============================] - 1s 39ms/step - loss: 0.1299 - mse: 0.0067 - val_loss: 0.1311 - val_mse: 0.0074\n"
          ]
        }
      ]
    },
    {
      "cell_type": "markdown",
      "metadata": {
        "id": "UIgQgf9XRwVI"
      },
      "source": [
        "Possiamo visualizzare tramite i grafici seguenti come l'autoencoder sia performante"
      ]
    },
    {
      "cell_type": "code",
      "metadata": {
        "colab": {
          "base_uri": "https://localhost:8080/",
          "height": 543
        },
        "id": "fgdmF-MLHBkV",
        "outputId": "a01e5f26-70a6-480d-8db9-ea69bf3c8e99"
      },
      "source": [
        "x_plot = list(range(1,n_epochs+1))\n",
        "\n",
        "def plot_history(history_autoencoder):\n",
        "    plt.figure()\n",
        "    plt.xlabel('Epochs')\n",
        "    plt.ylabel('Loss')\n",
        "    plt.plot(x_plot, history_autoencoder.history['loss'])\n",
        "    plt.plot(x_plot, history_autoencoder.history['val_loss'])\n",
        "    plt.legend(['Training', 'Validation'])\n",
        "\n",
        "    plt.figure()\n",
        "    plt.xlabel('Epochs')\n",
        "    plt.ylabel('Accuracy')\n",
        "    plt.plot(x_plot, history_autoencoder.history['mse'])\n",
        "    plt.plot(x_plot, history_autoencoder.history['val_mse'])\n",
        "    plt.legend(['Training', 'Validation'], loc='lower right')\n",
        "    plt.show()\n",
        "\n",
        "\n",
        "plot_history(history_autoencoder)"
      ],
      "execution_count": 120,
      "outputs": [
        {
          "output_type": "display_data",
          "data": {
            "image/png": "[encoded data removed]",
            "text/plain": [
              "<Figure size 432x288 with 1 Axes>"
            ]
          },
          "metadata": {
            "needs_background": "light"
          }
        },
        {
          "output_type": "display_data",
          "data": {
            "image/png": "[encoded data removed]",
            "text/plain": [
              "<Figure size 432x288 with 1 Axes>"
            ]
          },
          "metadata": {
            "needs_background": "light"
          }
        }
      ]
    },
    {
      "cell_type": "markdown",
      "metadata": {
        "id": "IbcGgMHmqNVL"
      },
      "source": [
        "## Inspecting the visual results "
      ]
    },
    {
      "cell_type": "markdown",
      "metadata": {
        "id": "17lcRNVwSaX_"
      },
      "source": [
        "I risultati prodotti dall'autoencoder che si possono visualizzare sotto sono molto buoni, da cui possiamo dedurre il corretto funzionamento dell'aoutencoder."
      ]
    },
    {
      "cell_type": "code",
      "metadata": {
        "id": "XpJuD0dwqje4",
        "colab": {
          "base_uri": "https://localhost:8080/",
          "height": 251
        },
        "outputId": "d43e38c0-c00c-43ee-b232-3d3676918310"
      },
      "source": [
        "x_selected = XX_val\n",
        "\n",
        "decoded_imgs = autoencoder.predict(x_selected)\n",
        "n = 8 \n",
        "plt.figure(figsize=(20, 4))\n",
        "for i in range(n):\n",
        "    ax = plt.subplot(2, n, i + 1)\n",
        "    plt.imshow(x_selected[i].reshape(28, 28))\n",
        "    plt.gray()\n",
        "    ax.get_xaxis().set_visible(False)\n",
        "    ax.get_yaxis().set_visible(False)\n",
        "\n",
        "    ax = plt.subplot(2, n, i + 1 + n)\n",
        "    plt.imshow(decoded_imgs[i].reshape(28, 28))\n",
        "    plt.gray()\n",
        "    ax.get_xaxis().set_visible(False)\n",
        "    ax.get_yaxis().set_visible(False)\n",
        "plt.show()"
      ],
      "execution_count": 121,
      "outputs": [
        {
          "output_type": "display_data",
          "data": {
            "image/png": "[encoded data removed]",
            "text/plain": [
              "<Figure size 1440x288 with 16 Axes>"
            ]
          },
          "metadata": {
            "needs_background": "light"
          }
        }
      ]
    },
    {
      "cell_type": "markdown",
      "metadata": {
        "id": "YXefW3LIqrDS"
      },
      "source": [
        "# 3. [OPTIONAL] The use and evaluation of the encoded representation generated by the auto-encoder to solve the problem of supervised classification.\n",
        "\n",
        "the idea is to take the encoded representation generated by the autoencoder developed in Section 2., and classify letters based on this representation.\n",
        "\n",
        "In other words, instead of feeding images directly thought a classifier (can be a Neural Network, but also a machine learning algorithm such as SVM, RF..), you can try to use the encoded representations as input for the classification task.\n",
        "\n",
        "Briefly compare the results with those obtained in Section 1."
      ]
    },
    {
      "cell_type": "code",
      "metadata": {
        "id": "dvDohKwvqxAy"
      },
      "source": [
        ""
      ],
      "execution_count": null,
      "outputs": []
    }
  ]
}