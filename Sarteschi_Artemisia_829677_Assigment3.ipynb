{
  "nbformat": 4,
  "nbformat_minor": 0,
  "metadata": {
    "colab": {
      "name": "Assigment3.ipynb",
      "provenance": [],
      "collapsed_sections": []
    },
    "kernelspec": {
      "name": "python3",
      "display_name": "Python 3"
    },
    "language_info": {
      "name": "python"
    },
    "accelerator": "GPU"
  },
  "cells": [
    {
      "cell_type": "markdown",
      "metadata": {
        "id": "HScfS147gYL1"
      },
      "source": [
        "#Assignment 3\n",
        "\n",
        "\n",
        "L'obiettivo del assignment è di creare e addestrare una CNN. Essa deve essere costruita con l'obbiettivo di raggiungere l'accuracy massima possibile sul test set con il vincolo di utilizzare massimo 6K parametri.\n",
        "\n",
        "\n",
        "Eseguito da: Artemisia Sarteschi 829677"
      ]
    },
    {
      "cell_type": "markdown",
      "metadata": {
        "id": "r5koWbXShiRc"
      },
      "source": [
        "## Librerie utilizzate"
      ]
    },
    {
      "cell_type": "code",
      "metadata": {
        "id": "Z0kj4FiNgAw-"
      },
      "source": [
        "import numpy as np\n",
        "import tensorflow as tf\n",
        "from tensorflow import keras\n",
        "from tensorflow.keras import layers\n",
        "from sklearn.model_selection import train_test_split\n",
        "from sklearn.metrics import classification_report\n",
        "import matplotlib.pyplot as plt"
      ],
      "execution_count": 1,
      "outputs": []
    },
    {
      "cell_type": "markdown",
      "metadata": {
        "id": "ytm9uxheFECP"
      },
      "source": [
        "Importo il dataset che verranno utilizzati per la definizione della CNN"
      ]
    },
    {
      "cell_type": "code",
      "metadata": {
        "id": "KNZjNMdIgdPZ"
      },
      "source": [
        "num_classes = 10\n",
        "input_shape = (28, 28, 1)\n",
        "(x_train, y_train), (x_test, y_test) = keras.datasets.mnist.load_data()"
      ],
      "execution_count": 2,
      "outputs": []
    },
    {
      "cell_type": "markdown",
      "metadata": {
        "id": "Q9utut7hzcnZ"
      },
      "source": [
        "Porto le immagini nel range [0,1] e nelle dimensioni 28x28"
      ]
    },
    {
      "cell_type": "code",
      "metadata": {
        "id": "IHOmrDIJiu5a"
      },
      "source": [
        "x_train = x_train.astype(\"float32\")/255\n",
        "x_test = x_test.astype(\"float32\")/255"
      ],
      "execution_count": 3,
      "outputs": []
    },
    {
      "cell_type": "code",
      "metadata": {
        "colab": {
          "base_uri": "https://localhost:8080/"
        },
        "id": "4x4WyXzVjHJG",
        "outputId": "4aec0566-474d-4012-d87d-930c26a3f5e8"
      },
      "source": [
        "x_train = np.expand_dims(x_train, -1)\n",
        "x_test = np.expand_dims(x_test, -1)\n",
        "print(\"x_train shape:\", x_train.shape)\n",
        "print(\"x_train shape:\", x_test.shape)"
      ],
      "execution_count": 4,
      "outputs": [
        {
          "output_type": "stream",
          "name": "stdout",
          "text": [
            "x_train shape: (60000, 28, 28, 1)\n",
            "x_train shape: (10000, 28, 28, 1)\n"
          ]
        }
      ]
    },
    {
      "cell_type": "markdown",
      "metadata": {
        "id": "1Vq4CrhhzwPg"
      },
      "source": [
        "Effettuo il one hot encode portando il vettore delle etichette associate alle immagini in etichette categoriche (ovvero una matrice binaria delle classi). "
      ]
    },
    {
      "cell_type": "code",
      "metadata": {
        "colab": {
          "base_uri": "https://localhost:8080/"
        },
        "id": "OlsEZHdkjk2i",
        "outputId": "8bda0f48-80c2-4f50-8b8e-8a5c9859d76f"
      },
      "source": [
        "print(\"y_train shape:\", y_train.shape)\n",
        "y_train = keras.utils.to_categorical(y_train, num_classes)\n",
        "y_test = keras.utils.to_categorical(y_test, num_classes)\n",
        "print(\"y_train shape:\", y_train.shape)"
      ],
      "execution_count": 5,
      "outputs": [
        {
          "output_type": "stream",
          "name": "stdout",
          "text": [
            "y_train shape: (60000,)\n",
            "y_train shape: (60000, 10)\n"
          ]
        }
      ]
    },
    {
      "cell_type": "markdown",
      "metadata": {
        "id": "vC-WlrGF0Via"
      },
      "source": [
        "Divido il train in un aprte per i solo train e una parte per la validation"
      ]
    },
    {
      "cell_type": "code",
      "metadata": {
        "id": "PFawRIJHMzhr"
      },
      "source": [
        "x_train, X_val, y_train, Y_val = train_test_split(x_train, y_train, test_size=0.1, random_state=7 )"
      ],
      "execution_count": 6,
      "outputs": []
    },
    {
      "cell_type": "markdown",
      "metadata": {
        "id": "R_GGg25Y0b-A"
      },
      "source": [
        "Creo il modello con il vincolo di rimanere all'interno dei 6000 parametri, inoltre:\n",
        "\n",
        "\n",
        "\n",
        "*   Il kernel_size è scelto simmetrico quindi quadrato \n",
        "*   La funzione di attivazione scelta è relu\n",
        "*   Per entrambi i convolution layer vi è un MaxPooling Layer di dimensione (2, 2)\n",
        "*   I filter applicati sono 8 nel caso del primo layer e 16 nel caso del secondo"
      ]
    },
    {
      "cell_type": "code",
      "metadata": {
        "id": "ikGw9pTukVwY"
      },
      "source": [
        "model = keras.Sequential(\n",
        "    [keras.Input(shape=input_shape),\n",
        "     layers.Conv2D(filters = 8, kernel_size=(3, 3), activation = \"relu\"),\n",
        "     layers.MaxPooling2D(pool_size=(2, 2)),\n",
        "     layers.Conv2D(filters = 16, kernel_size=(3, 3), activation = \"relu\"),\n",
        "     layers.MaxPooling2D(pool_size=(2, 2)),\n",
        "     layers.Flatten(),\n",
        "     layers.Dropout(0.5),\n",
        "     layers.Dense(num_classes, activation = \"softmax\")\n",
        "    ]\n",
        ")"
      ],
      "execution_count": 7,
      "outputs": []
    },
    {
      "cell_type": "code",
      "metadata": {
        "colab": {
          "base_uri": "https://localhost:8080/"
        },
        "id": "EsOHiJaj1PrB",
        "outputId": "a46ace45-1117-48a8-ad70-c6c3b708d44b"
      },
      "source": [
        "model.summary()"
      ],
      "execution_count": 8,
      "outputs": [
        {
          "output_type": "stream",
          "name": "stdout",
          "text": [
            "Model: \"sequential\"\n",
            "_________________________________________________________________\n",
            " Layer (type)                Output Shape              Param #   \n",
            "=================================================================\n",
            " conv2d (Conv2D)             (None, 26, 26, 8)         80        \n",
            "                                                                 \n",
            " max_pooling2d (MaxPooling2D  (None, 13, 13, 8)        0         \n",
            " )                                                               \n",
            "                                                                 \n",
            " conv2d_1 (Conv2D)           (None, 11, 11, 16)        1168      \n",
            "                                                                 \n",
            " max_pooling2d_1 (MaxPooling  (None, 5, 5, 16)         0         \n",
            " 2D)                                                             \n",
            "                                                                 \n",
            " flatten (Flatten)           (None, 400)               0         \n",
            "                                                                 \n",
            " dropout (Dropout)           (None, 400)               0         \n",
            "                                                                 \n",
            " dense (Dense)               (None, 10)                4010      \n",
            "                                                                 \n",
            "=================================================================\n",
            "Total params: 5,258\n",
            "Trainable params: 5,258\n",
            "Non-trainable params: 0\n",
            "_________________________________________________________________\n"
          ]
        }
      ]
    },
    {
      "cell_type": "markdown",
      "metadata": {
        "id": "-DaMfpOH1WsQ"
      },
      "source": [
        "La loss del modello viene calcolata con la \"categorical_crossentropy\" in quanto sono presenti varie categorie.\n",
        "Il numero di epoche è tenuto basso in quanto vengono trovati dei valori motlo buoni sia di accuracy che di loss sin dalle prime epoche."
      ]
    },
    {
      "cell_type": "code",
      "metadata": {
        "colab": {
          "base_uri": "https://localhost:8080/"
        },
        "id": "2x1vcmiDmlVf",
        "outputId": "753b4645-40f6-4c4f-818c-8d03ee2ec196"
      },
      "source": [
        "batch_size = 128 \n",
        "n_epochs = 20\n",
        "\n",
        "model.compile(loss = \"categorical_crossentropy\", optimizer = \"adam\", metrics = [\"accuracy\"])\n",
        "model_history = model.fit(x_train, y_train, batch_size = batch_size, epochs = n_epochs, validation_data = (X_val, Y_val))"
      ],
      "execution_count": 9,
      "outputs": [
        {
          "output_type": "stream",
          "name": "stdout",
          "text": [
            "Epoch 1/20\n",
            "422/422 [==============================] - 5s 7ms/step - loss: 0.7005 - accuracy: 0.7775 - val_loss: 0.1954 - val_accuracy: 0.9453\n",
            "Epoch 2/20\n",
            "422/422 [==============================] - 3s 6ms/step - loss: 0.2344 - accuracy: 0.9302 - val_loss: 0.1290 - val_accuracy: 0.9645\n",
            "Epoch 3/20\n",
            "422/422 [==============================] - 3s 6ms/step - loss: 0.1780 - accuracy: 0.9465 - val_loss: 0.1000 - val_accuracy: 0.9715\n",
            "Epoch 4/20\n",
            "422/422 [==============================] - 3s 7ms/step - loss: 0.1518 - accuracy: 0.9544 - val_loss: 0.0848 - val_accuracy: 0.9768\n",
            "Epoch 5/20\n",
            "422/422 [==============================] - 3s 6ms/step - loss: 0.1373 - accuracy: 0.9586 - val_loss: 0.0757 - val_accuracy: 0.9790\n",
            "Epoch 6/20\n",
            "422/422 [==============================] - 3s 7ms/step - loss: 0.1269 - accuracy: 0.9612 - val_loss: 0.0667 - val_accuracy: 0.9810\n",
            "Epoch 7/20\n",
            "422/422 [==============================] - 3s 7ms/step - loss: 0.1196 - accuracy: 0.9635 - val_loss: 0.0656 - val_accuracy: 0.9810\n",
            "Epoch 8/20\n",
            "422/422 [==============================] - 3s 7ms/step - loss: 0.1128 - accuracy: 0.9649 - val_loss: 0.0583 - val_accuracy: 0.9838\n",
            "Epoch 9/20\n",
            "422/422 [==============================] - 3s 7ms/step - loss: 0.1105 - accuracy: 0.9661 - val_loss: 0.0587 - val_accuracy: 0.9835\n",
            "Epoch 10/20\n",
            "422/422 [==============================] - 3s 7ms/step - loss: 0.1049 - accuracy: 0.9681 - val_loss: 0.0553 - val_accuracy: 0.9832\n",
            "Epoch 11/20\n",
            "422/422 [==============================] - 3s 7ms/step - loss: 0.1005 - accuracy: 0.9697 - val_loss: 0.0508 - val_accuracy: 0.9845\n",
            "Epoch 12/20\n",
            "422/422 [==============================] - 3s 7ms/step - loss: 0.0972 - accuracy: 0.9702 - val_loss: 0.0501 - val_accuracy: 0.9858\n",
            "Epoch 13/20\n",
            "422/422 [==============================] - 3s 7ms/step - loss: 0.0966 - accuracy: 0.9700 - val_loss: 0.0486 - val_accuracy: 0.9862\n",
            "Epoch 14/20\n",
            "422/422 [==============================] - 3s 7ms/step - loss: 0.0937 - accuracy: 0.9704 - val_loss: 0.0484 - val_accuracy: 0.9867\n",
            "Epoch 15/20\n",
            "422/422 [==============================] - 3s 7ms/step - loss: 0.0912 - accuracy: 0.9719 - val_loss: 0.0481 - val_accuracy: 0.9862\n",
            "Epoch 16/20\n",
            "422/422 [==============================] - 3s 7ms/step - loss: 0.0904 - accuracy: 0.9717 - val_loss: 0.0462 - val_accuracy: 0.9873\n",
            "Epoch 17/20\n",
            "422/422 [==============================] - 3s 7ms/step - loss: 0.0870 - accuracy: 0.9732 - val_loss: 0.0446 - val_accuracy: 0.9865\n",
            "Epoch 18/20\n",
            "422/422 [==============================] - 3s 6ms/step - loss: 0.0860 - accuracy: 0.9736 - val_loss: 0.0443 - val_accuracy: 0.9870\n",
            "Epoch 19/20\n",
            "422/422 [==============================] - 3s 7ms/step - loss: 0.0827 - accuracy: 0.9740 - val_loss: 0.0446 - val_accuracy: 0.9860\n",
            "Epoch 20/20\n",
            "422/422 [==============================] - 3s 7ms/step - loss: 0.0863 - accuracy: 0.9740 - val_loss: 0.0423 - val_accuracy: 0.9868\n"
          ]
        }
      ]
    },
    {
      "cell_type": "markdown",
      "metadata": {
        "id": "_iqgaxWb1MVi"
      },
      "source": [
        "Di seguito viene visualizzato il grafico della loss e dell'accuracy del modello durante il training e la validation, da cui si può visualizzare come il modello abbia una buona performance su dati non osservati (validation)"
      ]
    },
    {
      "cell_type": "code",
      "metadata": {
        "colab": {
          "base_uri": "https://localhost:8080/",
          "height": 541
        },
        "id": "3tIRbJRnPs1M",
        "outputId": "90ce9a3b-873c-4faf-b2e6-1463b6f06033"
      },
      "source": [
        "x_plot = list(range(1,n_epochs+1))\n",
        "\n",
        "def plot_history(model_history):\n",
        "    plt.figure()\n",
        "    plt.xlabel('Epochs')\n",
        "    plt.ylabel('Loss')\n",
        "    plt.plot(x_plot, model_history.history['loss'])\n",
        "    plt.plot(x_plot, model_history.history['val_loss'])\n",
        "    plt.legend(['Training', 'Validation'])\n",
        "\n",
        "    plt.figure()\n",
        "    plt.xlabel('Epochs')\n",
        "    plt.ylabel('Accuracy')\n",
        "    plt.plot(x_plot, model_history.history['accuracy'])\n",
        "    plt.plot(x_plot, model_history.history['val_accuracy'])\n",
        "    plt.legend(['Training', 'Validation'], loc='lower right')\n",
        "    plt.show()\n",
        "\n",
        "\n",
        "plot_history(model_history)"
      ],
      "execution_count": 10,
      "outputs": [
        {
          "output_type": "display_data",
          "data": {
            "image/png": "[encoded data removed]",
            "text/plain": [
              "<Figure size 432x288 with 1 Axes>"
            ]
          },
          "metadata": {
            "needs_background": "light"
          }
        },
        {
          "output_type": "display_data",
          "data": {
            "image/png": "[encoded data removed]",
            "text/plain": [
              "<Figure size 432x288 with 1 Axes>"
            ]
          },
          "metadata": {
            "needs_background": "light"
          }
        }
      ]
    },
    {
      "cell_type": "markdown",
      "metadata": {
        "id": "TCfZU4Bs3ewL"
      },
      "source": [
        "classification performance on training, validation (if used) and test set"
      ]
    },
    {
      "cell_type": "markdown",
      "metadata": {
        "id": "yGVImDfN5Xvc"
      },
      "source": [
        "Di seguito le performance sul train set, validation set e test set in termini di accuracy e loss, possiamo vedere che tutti i risultati ottenuti hanno un alta accuracy e una loss bassa. Questo è indice di una buona performance dal momento che sui dati non osservati questa performance è mantenuta."
      ]
    },
    {
      "cell_type": "code",
      "metadata": {
        "colab": {
          "base_uri": "https://localhost:8080/"
        },
        "id": "OK7chKN_YAgg",
        "outputId": "089ac1f2-72a3-48ff-9832-be5b4cfb0c24"
      },
      "source": [
        "score_train = model.evaluate(x_train, y_train, verbose=0, batch_size=128)\n",
        "print(\"Train loss:\", score_train[0])\n",
        "print(\"Train accuracy:\", score_train[1])"
      ],
      "execution_count": 11,
      "outputs": [
        {
          "output_type": "stream",
          "name": "stdout",
          "text": [
            "Train loss: 0.03647614270448685\n",
            "Train accuracy: 0.9888888597488403\n"
          ]
        }
      ]
    },
    {
      "cell_type": "code",
      "metadata": {
        "colab": {
          "base_uri": "https://localhost:8080/"
        },
        "id": "TMLct8yBYMqj",
        "outputId": "a855a5e2-cdfc-4590-bdef-b33e9ab78773"
      },
      "source": [
        "score_val = model.evaluate(X_val, Y_val, verbose=0, batch_size=128)\n",
        "print(\"Validation loss:\", score_val[0])\n",
        "print(\"Validation accuracy:\", score_val[1])"
      ],
      "execution_count": 12,
      "outputs": [
        {
          "output_type": "stream",
          "name": "stdout",
          "text": [
            "Validation loss: 0.042336903512477875\n",
            "Validation accuracy: 0.9868333339691162\n"
          ]
        }
      ]
    },
    {
      "cell_type": "code",
      "metadata": {
        "colab": {
          "base_uri": "https://localhost:8080/"
        },
        "id": "2rlMcrymVHPj",
        "outputId": "68c8f1be-a997-4644-e3a9-b54165a8b172"
      },
      "source": [
        "score_test = model.evaluate(x_test, y_test, verbose=0, batch_size=128)\n",
        "print(\"Test loss:\", score_test[0])\n",
        "print(\"Test accuracy:\", score_test[1])"
      ],
      "execution_count": 13,
      "outputs": [
        {
          "output_type": "stream",
          "name": "stdout",
          "text": [
            "Test loss: 0.038113661110401154\n",
            "Test accuracy: 0.988099992275238\n"
          ]
        }
      ]
    },
    {
      "cell_type": "markdown",
      "metadata": {
        "id": "h4-BBtA-YTDz"
      },
      "source": [
        "Di seguito vengono invece comparate le metriche di precision, recall e f1-score per train set, validation set e test set"
      ]
    },
    {
      "cell_type": "code",
      "metadata": {
        "colab": {
          "base_uri": "https://localhost:8080/"
        },
        "id": "vRoliwV2aQwb",
        "outputId": "cd602bab-2cc9-49cf-f866-8a8e485ed949"
      },
      "source": [
        "prediction_train = model.predict(x_train)\n",
        "\n",
        "y_classes_train = prediction_train.argmax(axis=-1)\n",
        "\n",
        "y_train = y_train.argmax(axis=-1)\n",
        "\n",
        "print(classification_report(y_classes_train,y_train))"
      ],
      "execution_count": 14,
      "outputs": [
        {
          "output_type": "stream",
          "name": "stdout",
          "text": [
            "              precision    recall  f1-score   support\n",
            "\n",
            "           0       1.00      0.99      0.99      5388\n",
            "           1       0.99      0.99      0.99      6072\n",
            "           2       0.99      0.99      0.99      5398\n",
            "           3       0.99      0.99      0.99      5446\n",
            "           4       0.99      0.99      0.99      5210\n",
            "           5       0.99      0.99      0.99      4853\n",
            "           6       0.99      0.99      0.99      5293\n",
            "           7       0.99      0.98      0.99      5687\n",
            "           8       0.98      0.99      0.99      5269\n",
            "           9       0.98      0.98      0.98      5384\n",
            "\n",
            "    accuracy                           0.99     54000\n",
            "   macro avg       0.99      0.99      0.99     54000\n",
            "weighted avg       0.99      0.99      0.99     54000\n",
            "\n"
          ]
        }
      ]
    },
    {
      "cell_type": "code",
      "metadata": {
        "colab": {
          "base_uri": "https://localhost:8080/"
        },
        "id": "_hzDLOZB6xWA",
        "outputId": "f1b5e2bd-5bb7-4cb5-d71f-04b16173a0c6"
      },
      "source": [
        "prediction_val = model.predict(X_val)\n",
        "\n",
        "y_classes_val = prediction_val.argmax(axis=-1)\n",
        "\n",
        "Y_val = Y_val.argmax(axis=-1)\n",
        "\n",
        "print(classification_report(y_classes_val,Y_val))"
      ],
      "execution_count": 15,
      "outputs": [
        {
          "output_type": "stream",
          "name": "stdout",
          "text": [
            "              precision    recall  f1-score   support\n",
            "\n",
            "           0       0.99      0.99      0.99       554\n",
            "           1       0.99      0.99      0.99       665\n",
            "           2       0.99      0.98      0.99       578\n",
            "           3       0.99      0.99      0.99       680\n",
            "           4       0.98      0.98      0.98       596\n",
            "           5       0.99      0.99      0.99       563\n",
            "           6       1.00      0.99      0.99       639\n",
            "           7       0.99      0.98      0.98       625\n",
            "           8       0.98      0.99      0.98       555\n",
            "           9       0.96      0.97      0.97       545\n",
            "\n",
            "    accuracy                           0.99      6000\n",
            "   macro avg       0.99      0.99      0.99      6000\n",
            "weighted avg       0.99      0.99      0.99      6000\n",
            "\n"
          ]
        }
      ]
    },
    {
      "cell_type": "code",
      "metadata": {
        "colab": {
          "base_uri": "https://localhost:8080/"
        },
        "id": "-1mBOiXOVv2O",
        "outputId": "1169b09e-56a4-4942-87a4-fec525e6b31d"
      },
      "source": [
        "prediction_test = model.predict(x_test)\n",
        "\n",
        "y_classes_test = prediction_test.argmax(axis=-1)\n",
        "\n",
        "y_test = y_test.argmax(axis=-1)\n",
        "\n",
        "print(classification_report(y_classes_test,y_test))"
      ],
      "execution_count": 16,
      "outputs": [
        {
          "output_type": "stream",
          "name": "stdout",
          "text": [
            "              precision    recall  f1-score   support\n",
            "\n",
            "           0       1.00      0.99      0.99       987\n",
            "           1       1.00      0.99      0.99      1137\n",
            "           2       0.99      0.98      0.99      1038\n",
            "           3       0.99      0.99      0.99      1015\n",
            "           4       0.99      0.99      0.99       978\n",
            "           5       0.99      0.99      0.99       893\n",
            "           6       0.99      0.99      0.99       952\n",
            "           7       0.98      0.98      0.98      1026\n",
            "           8       0.99      0.99      0.99       974\n",
            "           9       0.98      0.99      0.98      1000\n",
            "\n",
            "    accuracy                           0.99     10000\n",
            "   macro avg       0.99      0.99      0.99     10000\n",
            "weighted avg       0.99      0.99      0.99     10000\n",
            "\n"
          ]
        }
      ]
    },
    {
      "cell_type": "markdown",
      "metadata": {
        "id": "aRQzcYKzDjN_"
      },
      "source": [
        "Possiamo quindi concludere che la rete riesce a raggiungere il livello di accuracy sul test set e performi bene anche su train set e validation set."
      ]
    }
  ]
}